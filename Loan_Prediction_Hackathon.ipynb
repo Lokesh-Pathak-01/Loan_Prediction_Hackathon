{
  "nbformat": 4,
  "nbformat_minor": 0,
  "metadata": {
    "colab": {
      "name": "Loan_Prediction_Hackathon.ipynb",
      "provenance": [],
      "collapsed_sections": []
    },
    "kernelspec": {
      "name": "python3",
      "display_name": "Python 3"
    }
  },
  "cells": [
    {
      "cell_type": "markdown",
      "metadata": {
        "id": "FTyw-4nregqR",
        "colab_type": "text"
      },
      "source": [
        "# Reading Data"
      ]
    },
    {
      "cell_type": "code",
      "metadata": {
        "id": "no_PPp5xFMuO",
        "colab_type": "code",
        "colab": {
          "base_uri": "https://localhost:8080/",
          "height": 34
        },
        "outputId": "b44e1857-fd71-4421-b2a7-1da75b8fdff0"
      },
      "source": [
        "from google.colab import drive\n",
        "drive.mount('/content/drive')"
      ],
      "execution_count": 248,
      "outputs": [
        {
          "output_type": "stream",
          "text": [
            "Drive already mounted at /content/drive; to attempt to forcibly remount, call drive.mount(\"/content/drive\", force_remount=True).\n"
          ],
          "name": "stdout"
        }
      ]
    },
    {
      "cell_type": "code",
      "metadata": {
        "id": "x82wR_7DFSIt",
        "colab_type": "code",
        "colab": {}
      },
      "source": [
        "# importing libraries\n",
        "\n",
        "import numpy as np\n",
        "import pandas as pd\n",
        "import warnings\n",
        "warnings.filterwarnings('ignore')\n",
        "from sklearn.linear_model import SGDClassifier\n",
        "from sklearn.preprocessing import StandardScaler\n",
        "from sklearn.pipeline import make_pipeline\n",
        "from sklearn import metrics as ms\n",
        "from sklearn.metrics import confusion_matrix\n",
        "from xgboost.sklearn import XGBClassifier\n",
        "from scipy.stats import uniform, randint\n",
        "from sklearn.model_selection import RandomizedSearchCV\n",
        "import matplotlib.pyplot as plt\n",
        "import seaborn as sns\n",
        "from sklearn.model_selection import GridSearchCV\n",
        "from catboost import CatBoostClassifier"
      ],
      "execution_count": 249,
      "outputs": []
    },
    {
      "cell_type": "code",
      "metadata": {
        "id": "6243LCZNGAMd",
        "colab_type": "code",
        "colab": {
          "base_uri": "https://localhost:8080/",
          "height": 241
        },
        "outputId": "0918ead9-efe4-4638-cd25-5bcc930454e5"
      },
      "source": [
        "#Train Data\n",
        "\n",
        "train_data = pd.read_csv('/content/drive/My Drive/Hackathon/train_ctrUa4K.csv')\n",
        "train_data.head(5)"
      ],
      "execution_count": 250,
      "outputs": [
        {
          "output_type": "execute_result",
          "data": {
            "text/html": [
              "<div>\n",
              "<style scoped>\n",
              "    .dataframe tbody tr th:only-of-type {\n",
              "        vertical-align: middle;\n",
              "    }\n",
              "\n",
              "    .dataframe tbody tr th {\n",
              "        vertical-align: top;\n",
              "    }\n",
              "\n",
              "    .dataframe thead th {\n",
              "        text-align: right;\n",
              "    }\n",
              "</style>\n",
              "<table border=\"1\" class=\"dataframe\">\n",
              "  <thead>\n",
              "    <tr style=\"text-align: right;\">\n",
              "      <th></th>\n",
              "      <th>Loan_ID</th>\n",
              "      <th>Gender</th>\n",
              "      <th>Married</th>\n",
              "      <th>Dependents</th>\n",
              "      <th>Education</th>\n",
              "      <th>Self_Employed</th>\n",
              "      <th>ApplicantIncome</th>\n",
              "      <th>CoapplicantIncome</th>\n",
              "      <th>LoanAmount</th>\n",
              "      <th>Loan_Amount_Term</th>\n",
              "      <th>Credit_History</th>\n",
              "      <th>Property_Area</th>\n",
              "      <th>Loan_Status</th>\n",
              "    </tr>\n",
              "  </thead>\n",
              "  <tbody>\n",
              "    <tr>\n",
              "      <th>0</th>\n",
              "      <td>LP001002</td>\n",
              "      <td>Male</td>\n",
              "      <td>No</td>\n",
              "      <td>0</td>\n",
              "      <td>Graduate</td>\n",
              "      <td>No</td>\n",
              "      <td>5849</td>\n",
              "      <td>0.0</td>\n",
              "      <td>NaN</td>\n",
              "      <td>360.0</td>\n",
              "      <td>1.0</td>\n",
              "      <td>Urban</td>\n",
              "      <td>Y</td>\n",
              "    </tr>\n",
              "    <tr>\n",
              "      <th>1</th>\n",
              "      <td>LP001003</td>\n",
              "      <td>Male</td>\n",
              "      <td>Yes</td>\n",
              "      <td>1</td>\n",
              "      <td>Graduate</td>\n",
              "      <td>No</td>\n",
              "      <td>4583</td>\n",
              "      <td>1508.0</td>\n",
              "      <td>128.0</td>\n",
              "      <td>360.0</td>\n",
              "      <td>1.0</td>\n",
              "      <td>Rural</td>\n",
              "      <td>N</td>\n",
              "    </tr>\n",
              "    <tr>\n",
              "      <th>2</th>\n",
              "      <td>LP001005</td>\n",
              "      <td>Male</td>\n",
              "      <td>Yes</td>\n",
              "      <td>0</td>\n",
              "      <td>Graduate</td>\n",
              "      <td>Yes</td>\n",
              "      <td>3000</td>\n",
              "      <td>0.0</td>\n",
              "      <td>66.0</td>\n",
              "      <td>360.0</td>\n",
              "      <td>1.0</td>\n",
              "      <td>Urban</td>\n",
              "      <td>Y</td>\n",
              "    </tr>\n",
              "    <tr>\n",
              "      <th>3</th>\n",
              "      <td>LP001006</td>\n",
              "      <td>Male</td>\n",
              "      <td>Yes</td>\n",
              "      <td>0</td>\n",
              "      <td>Not Graduate</td>\n",
              "      <td>No</td>\n",
              "      <td>2583</td>\n",
              "      <td>2358.0</td>\n",
              "      <td>120.0</td>\n",
              "      <td>360.0</td>\n",
              "      <td>1.0</td>\n",
              "      <td>Urban</td>\n",
              "      <td>Y</td>\n",
              "    </tr>\n",
              "    <tr>\n",
              "      <th>4</th>\n",
              "      <td>LP001008</td>\n",
              "      <td>Male</td>\n",
              "      <td>No</td>\n",
              "      <td>0</td>\n",
              "      <td>Graduate</td>\n",
              "      <td>No</td>\n",
              "      <td>6000</td>\n",
              "      <td>0.0</td>\n",
              "      <td>141.0</td>\n",
              "      <td>360.0</td>\n",
              "      <td>1.0</td>\n",
              "      <td>Urban</td>\n",
              "      <td>Y</td>\n",
              "    </tr>\n",
              "  </tbody>\n",
              "</table>\n",
              "</div>"
            ],
            "text/plain": [
              "    Loan_ID Gender Married  ... Credit_History Property_Area Loan_Status\n",
              "0  LP001002   Male      No  ...            1.0         Urban           Y\n",
              "1  LP001003   Male     Yes  ...            1.0         Rural           N\n",
              "2  LP001005   Male     Yes  ...            1.0         Urban           Y\n",
              "3  LP001006   Male     Yes  ...            1.0         Urban           Y\n",
              "4  LP001008   Male      No  ...            1.0         Urban           Y\n",
              "\n",
              "[5 rows x 13 columns]"
            ]
          },
          "metadata": {
            "tags": []
          },
          "execution_count": 250
        }
      ]
    },
    {
      "cell_type": "code",
      "metadata": {
        "id": "VVMj2gl9GGIq",
        "colab_type": "code",
        "colab": {
          "base_uri": "https://localhost:8080/",
          "height": 241
        },
        "outputId": "fea40037-fcd3-41be-dd87-7972d71ea9b2"
      },
      "source": [
        "# Test Data\n",
        "\n",
        "test_data = pd.read_csv('/content/drive/My Drive/Hackathon/test_lAUu6dG.csv')\n",
        "test_data.head(5)"
      ],
      "execution_count": 251,
      "outputs": [
        {
          "output_type": "execute_result",
          "data": {
            "text/html": [
              "<div>\n",
              "<style scoped>\n",
              "    .dataframe tbody tr th:only-of-type {\n",
              "        vertical-align: middle;\n",
              "    }\n",
              "\n",
              "    .dataframe tbody tr th {\n",
              "        vertical-align: top;\n",
              "    }\n",
              "\n",
              "    .dataframe thead th {\n",
              "        text-align: right;\n",
              "    }\n",
              "</style>\n",
              "<table border=\"1\" class=\"dataframe\">\n",
              "  <thead>\n",
              "    <tr style=\"text-align: right;\">\n",
              "      <th></th>\n",
              "      <th>Loan_ID</th>\n",
              "      <th>Gender</th>\n",
              "      <th>Married</th>\n",
              "      <th>Dependents</th>\n",
              "      <th>Education</th>\n",
              "      <th>Self_Employed</th>\n",
              "      <th>ApplicantIncome</th>\n",
              "      <th>CoapplicantIncome</th>\n",
              "      <th>LoanAmount</th>\n",
              "      <th>Loan_Amount_Term</th>\n",
              "      <th>Credit_History</th>\n",
              "      <th>Property_Area</th>\n",
              "    </tr>\n",
              "  </thead>\n",
              "  <tbody>\n",
              "    <tr>\n",
              "      <th>0</th>\n",
              "      <td>LP001015</td>\n",
              "      <td>Male</td>\n",
              "      <td>Yes</td>\n",
              "      <td>0</td>\n",
              "      <td>Graduate</td>\n",
              "      <td>No</td>\n",
              "      <td>5720</td>\n",
              "      <td>0</td>\n",
              "      <td>110.0</td>\n",
              "      <td>360.0</td>\n",
              "      <td>1.0</td>\n",
              "      <td>Urban</td>\n",
              "    </tr>\n",
              "    <tr>\n",
              "      <th>1</th>\n",
              "      <td>LP001022</td>\n",
              "      <td>Male</td>\n",
              "      <td>Yes</td>\n",
              "      <td>1</td>\n",
              "      <td>Graduate</td>\n",
              "      <td>No</td>\n",
              "      <td>3076</td>\n",
              "      <td>1500</td>\n",
              "      <td>126.0</td>\n",
              "      <td>360.0</td>\n",
              "      <td>1.0</td>\n",
              "      <td>Urban</td>\n",
              "    </tr>\n",
              "    <tr>\n",
              "      <th>2</th>\n",
              "      <td>LP001031</td>\n",
              "      <td>Male</td>\n",
              "      <td>Yes</td>\n",
              "      <td>2</td>\n",
              "      <td>Graduate</td>\n",
              "      <td>No</td>\n",
              "      <td>5000</td>\n",
              "      <td>1800</td>\n",
              "      <td>208.0</td>\n",
              "      <td>360.0</td>\n",
              "      <td>1.0</td>\n",
              "      <td>Urban</td>\n",
              "    </tr>\n",
              "    <tr>\n",
              "      <th>3</th>\n",
              "      <td>LP001035</td>\n",
              "      <td>Male</td>\n",
              "      <td>Yes</td>\n",
              "      <td>2</td>\n",
              "      <td>Graduate</td>\n",
              "      <td>No</td>\n",
              "      <td>2340</td>\n",
              "      <td>2546</td>\n",
              "      <td>100.0</td>\n",
              "      <td>360.0</td>\n",
              "      <td>NaN</td>\n",
              "      <td>Urban</td>\n",
              "    </tr>\n",
              "    <tr>\n",
              "      <th>4</th>\n",
              "      <td>LP001051</td>\n",
              "      <td>Male</td>\n",
              "      <td>No</td>\n",
              "      <td>0</td>\n",
              "      <td>Not Graduate</td>\n",
              "      <td>No</td>\n",
              "      <td>3276</td>\n",
              "      <td>0</td>\n",
              "      <td>78.0</td>\n",
              "      <td>360.0</td>\n",
              "      <td>1.0</td>\n",
              "      <td>Urban</td>\n",
              "    </tr>\n",
              "  </tbody>\n",
              "</table>\n",
              "</div>"
            ],
            "text/plain": [
              "    Loan_ID Gender Married  ... Loan_Amount_Term Credit_History Property_Area\n",
              "0  LP001015   Male     Yes  ...            360.0            1.0         Urban\n",
              "1  LP001022   Male     Yes  ...            360.0            1.0         Urban\n",
              "2  LP001031   Male     Yes  ...            360.0            1.0         Urban\n",
              "3  LP001035   Male     Yes  ...            360.0            NaN         Urban\n",
              "4  LP001051   Male      No  ...            360.0            1.0         Urban\n",
              "\n",
              "[5 rows x 12 columns]"
            ]
          },
          "metadata": {
            "tags": []
          },
          "execution_count": 251
        }
      ]
    },
    {
      "cell_type": "code",
      "metadata": {
        "id": "hE5b_SVwGNqv",
        "colab_type": "code",
        "colab": {
          "base_uri": "https://localhost:8080/",
          "height": 51
        },
        "outputId": "8c723df2-9641-49e4-b181-c03718b81432"
      },
      "source": [
        "print(train_data.shape)\n",
        "print(test_data.shape)"
      ],
      "execution_count": 252,
      "outputs": [
        {
          "output_type": "stream",
          "text": [
            "(614, 13)\n",
            "(367, 12)\n"
          ],
          "name": "stdout"
        }
      ]
    },
    {
      "cell_type": "code",
      "metadata": {
        "id": "FJ3tjKYuGazx",
        "colab_type": "code",
        "colab": {
          "base_uri": "https://localhost:8080/",
          "height": 357
        },
        "outputId": "b23f2fa7-5f4d-49e4-a8ad-34be4aa7cc25"
      },
      "source": [
        "train_data.info()"
      ],
      "execution_count": 253,
      "outputs": [
        {
          "output_type": "stream",
          "text": [
            "<class 'pandas.core.frame.DataFrame'>\n",
            "RangeIndex: 614 entries, 0 to 613\n",
            "Data columns (total 13 columns):\n",
            " #   Column             Non-Null Count  Dtype  \n",
            "---  ------             --------------  -----  \n",
            " 0   Loan_ID            614 non-null    object \n",
            " 1   Gender             601 non-null    object \n",
            " 2   Married            611 non-null    object \n",
            " 3   Dependents         599 non-null    object \n",
            " 4   Education          614 non-null    object \n",
            " 5   Self_Employed      582 non-null    object \n",
            " 6   ApplicantIncome    614 non-null    int64  \n",
            " 7   CoapplicantIncome  614 non-null    float64\n",
            " 8   LoanAmount         592 non-null    float64\n",
            " 9   Loan_Amount_Term   600 non-null    float64\n",
            " 10  Credit_History     564 non-null    float64\n",
            " 11  Property_Area      614 non-null    object \n",
            " 12  Loan_Status        614 non-null    object \n",
            "dtypes: float64(4), int64(1), object(8)\n",
            "memory usage: 62.5+ KB\n"
          ],
          "name": "stdout"
        }
      ]
    },
    {
      "cell_type": "code",
      "metadata": {
        "id": "9mZfw-8GGof5",
        "colab_type": "code",
        "colab": {
          "base_uri": "https://localhost:8080/",
          "height": 340
        },
        "outputId": "e9e68aa5-1d18-4a15-915f-0640cd805503"
      },
      "source": [
        "test_data.info()"
      ],
      "execution_count": 254,
      "outputs": [
        {
          "output_type": "stream",
          "text": [
            "<class 'pandas.core.frame.DataFrame'>\n",
            "RangeIndex: 367 entries, 0 to 366\n",
            "Data columns (total 12 columns):\n",
            " #   Column             Non-Null Count  Dtype  \n",
            "---  ------             --------------  -----  \n",
            " 0   Loan_ID            367 non-null    object \n",
            " 1   Gender             356 non-null    object \n",
            " 2   Married            367 non-null    object \n",
            " 3   Dependents         357 non-null    object \n",
            " 4   Education          367 non-null    object \n",
            " 5   Self_Employed      344 non-null    object \n",
            " 6   ApplicantIncome    367 non-null    int64  \n",
            " 7   CoapplicantIncome  367 non-null    int64  \n",
            " 8   LoanAmount         362 non-null    float64\n",
            " 9   Loan_Amount_Term   361 non-null    float64\n",
            " 10  Credit_History     338 non-null    float64\n",
            " 11  Property_Area      367 non-null    object \n",
            "dtypes: float64(3), int64(2), object(7)\n",
            "memory usage: 34.5+ KB\n"
          ],
          "name": "stdout"
        }
      ]
    },
    {
      "cell_type": "markdown",
      "metadata": {
        "id": "x57Bb805n6Kj",
        "colab_type": "text"
      },
      "source": [
        "# Data preprocessing"
      ]
    },
    {
      "cell_type": "markdown",
      "metadata": {
        "id": "2LpDoSY8G7Ua",
        "colab_type": "text"
      },
      "source": [
        "## Handling Null Values"
      ]
    },
    {
      "cell_type": "code",
      "metadata": {
        "id": "mr-3OuwNi5rk",
        "colab_type": "code",
        "colab": {
          "base_uri": "https://localhost:8080/",
          "height": 255
        },
        "outputId": "027e0934-8405-436e-dcbf-fb0a879e923b"
      },
      "source": [
        "train_data.isnull().sum()"
      ],
      "execution_count": 255,
      "outputs": [
        {
          "output_type": "execute_result",
          "data": {
            "text/plain": [
              "Loan_ID               0\n",
              "Gender               13\n",
              "Married               3\n",
              "Dependents           15\n",
              "Education             0\n",
              "Self_Employed        32\n",
              "ApplicantIncome       0\n",
              "CoapplicantIncome     0\n",
              "LoanAmount           22\n",
              "Loan_Amount_Term     14\n",
              "Credit_History       50\n",
              "Property_Area         0\n",
              "Loan_Status           0\n",
              "dtype: int64"
            ]
          },
          "metadata": {
            "tags": []
          },
          "execution_count": 255
        }
      ]
    },
    {
      "cell_type": "markdown",
      "metadata": {
        "id": "MOenXH0AjBIl",
        "colab_type": "text"
      },
      "source": [
        "Null value columns in train dataset are :\n",
        "\n",
        "['Gender' , 'Married' , 'Dependents' ,\n",
        "'Self_Employed' , 'LoanAmount' , 'Loan_Amount_Term' , 'Credit_History']"
      ]
    },
    {
      "cell_type": "code",
      "metadata": {
        "id": "A_CQ3ihcGsgO",
        "colab_type": "code",
        "colab": {
          "base_uri": "https://localhost:8080/",
          "height": 238
        },
        "outputId": "1e3f0832-4b00-4de3-9b3d-16093df3a174"
      },
      "source": [
        "test_data.isnull().sum()"
      ],
      "execution_count": 256,
      "outputs": [
        {
          "output_type": "execute_result",
          "data": {
            "text/plain": [
              "Loan_ID               0\n",
              "Gender               11\n",
              "Married               0\n",
              "Dependents           10\n",
              "Education             0\n",
              "Self_Employed        23\n",
              "ApplicantIncome       0\n",
              "CoapplicantIncome     0\n",
              "LoanAmount            5\n",
              "Loan_Amount_Term      6\n",
              "Credit_History       29\n",
              "Property_Area         0\n",
              "dtype: int64"
            ]
          },
          "metadata": {
            "tags": []
          },
          "execution_count": 256
        }
      ]
    },
    {
      "cell_type": "markdown",
      "metadata": {
        "id": "lw1Nj4OmH9fo",
        "colab_type": "text"
      },
      "source": [
        "Null Value columns in test dataset are :\n",
        "\n",
        " ['Gender' , 'Dependents' , 'Self_Employed' , 'LoanAmount' , 'Loan_Amount_Term' , 'Credit_History']"
      ]
    },
    {
      "cell_type": "markdown",
      "metadata": {
        "id": "XBLZXyJLM0Lk",
        "colab_type": "text"
      },
      "source": [
        "\n",
        "Here we are replacing null values of categorical_feature with mode and null values of numerical_feature with median."
      ]
    },
    {
      "cell_type": "code",
      "metadata": {
        "id": "bD2Yl09zGvjL",
        "colab_type": "code",
        "colab": {
          "base_uri": "https://localhost:8080/",
          "height": 527
        },
        "outputId": "82f82e79-44ff-4d8e-ba97-9647086416d3"
      },
      "source": [
        "Categorical_Feature = ['Loan_ID', 'Gender' , 'Married' , 'Dependents' , 'Education' , 'Self_Employed' , 'Loan_Amount_Term' , 'Property_Area', 'Credit_History']\n",
        "Numerical_Feature = ['ApplicantIncome', 'CoapplicantIncome', 'LoanAmount']\n",
        "\n",
        "for i in Categorical_Feature:\n",
        "  train_data[i].fillna(train_data[i].mode()[0], inplace=True)\n",
        "  test_data[i].fillna(test_data[i].mode()[0], inplace=True)\n",
        "\n",
        "for j in Numerical_Feature:\n",
        "  train_data[j] = train_data[j].replace(np.nan , train_data[j].median())\n",
        "  test_data[j] = test_data[j].replace(np.nan , test_data[j].median())\n",
        "\n",
        "print(\"count of null values for train_data\")\n",
        "print(train_data.isnull().sum())\n",
        "print(\" \")\n",
        "print(\"Count of null values for test_data\")\n",
        "print(test_data.isnull().sum())"
      ],
      "execution_count": 257,
      "outputs": [
        {
          "output_type": "stream",
          "text": [
            "count of null values for train_data\n",
            "Loan_ID              0\n",
            "Gender               0\n",
            "Married              0\n",
            "Dependents           0\n",
            "Education            0\n",
            "Self_Employed        0\n",
            "ApplicantIncome      0\n",
            "CoapplicantIncome    0\n",
            "LoanAmount           0\n",
            "Loan_Amount_Term     0\n",
            "Credit_History       0\n",
            "Property_Area        0\n",
            "Loan_Status          0\n",
            "dtype: int64\n",
            " \n",
            "Count of null values for test_data\n",
            "Loan_ID              0\n",
            "Gender               0\n",
            "Married              0\n",
            "Dependents           0\n",
            "Education            0\n",
            "Self_Employed        0\n",
            "ApplicantIncome      0\n",
            "CoapplicantIncome    0\n",
            "LoanAmount           0\n",
            "Loan_Amount_Term     0\n",
            "Credit_History       0\n",
            "Property_Area        0\n",
            "dtype: int64\n"
          ],
          "name": "stdout"
        }
      ]
    },
    {
      "cell_type": "markdown",
      "metadata": {
        "id": "Y4OAD0cCNnd3",
        "colab_type": "text"
      },
      "source": [
        "## Encoding"
      ]
    },
    {
      "cell_type": "markdown",
      "metadata": {
        "id": "z2-hya8zQpuG",
        "colab_type": "text"
      },
      "source": [
        "unique values for categorical features in train and test datasets\n",
        "\n"
      ]
    },
    {
      "cell_type": "code",
      "metadata": {
        "id": "Shjgy8MsN0qi",
        "colab_type": "code",
        "colab": {
          "base_uri": "https://localhost:8080/",
          "height": 289
        },
        "outputId": "77fe2753-2288-4096-882c-bb88fe5d4a13"
      },
      "source": [
        "Objecttype_feature_list = ['Gender','Married','Dependents','Education','Self_Employed','Property_Area']\n",
        "\n",
        "print(\"Unique value in train_data\")\n",
        "for i in Objecttype_feature_list:\n",
        "  print(\"Count of unique values in column \", i, \"is\", train_data[i].nunique(), \"which are\", train_data[i].unique())\n",
        "\n",
        "print(\" \")\n",
        "print(\" \")\n",
        "\n",
        "print(\"Unique value in test_data\")\n",
        "for i in Objecttype_feature_list:\n",
        "  print(\"count of unique values in column \", i, \"is\", test_data[i].nunique(), \"which are\", test_data[i].unique())\n"
      ],
      "execution_count": 258,
      "outputs": [
        {
          "output_type": "stream",
          "text": [
            "Unique value in train_data\n",
            "Count of unique values in column  Gender is 2 which are ['Male' 'Female']\n",
            "Count of unique values in column  Married is 2 which are ['No' 'Yes']\n",
            "Count of unique values in column  Dependents is 4 which are ['0' '1' '2' '3+']\n",
            "Count of unique values in column  Education is 2 which are ['Graduate' 'Not Graduate']\n",
            "Count of unique values in column  Self_Employed is 2 which are ['No' 'Yes']\n",
            "Count of unique values in column  Property_Area is 3 which are ['Urban' 'Rural' 'Semiurban']\n",
            " \n",
            " \n",
            "Unique value in test_data\n",
            "count of unique values in column  Gender is 2 which are ['Male' 'Female']\n",
            "count of unique values in column  Married is 2 which are ['Yes' 'No']\n",
            "count of unique values in column  Dependents is 4 which are ['0' '1' '2' '3+']\n",
            "count of unique values in column  Education is 2 which are ['Graduate' 'Not Graduate']\n",
            "count of unique values in column  Self_Employed is 2 which are ['No' 'Yes']\n",
            "count of unique values in column  Property_Area is 3 which are ['Urban' 'Semiurban' 'Rural']\n"
          ],
          "name": "stdout"
        }
      ]
    },
    {
      "cell_type": "markdown",
      "metadata": {
        "id": "ukGoAeMQmVXi",
        "colab_type": "text"
      },
      "source": [
        "For Encoding I am using one hot encoding because the count of unique values are less than 5."
      ]
    },
    {
      "cell_type": "code",
      "metadata": {
        "id": "w56-4IGpP4lx",
        "colab_type": "code",
        "colab": {}
      },
      "source": [
        "train_data_LoanID = train_data['Loan_ID']\n",
        "train_data = train_data.drop(columns=['Loan_ID'])\n",
        "train_data_encoded = pd.get_dummies(train_data,drop_first=True)\n",
        "\n",
        "test_data_LoanID = test_data['Loan_ID']\n",
        "test_data = test_data.drop(columns=['Loan_ID'])\n",
        "test_data_encoded = pd.get_dummies(test_data,drop_first=True)\n"
      ],
      "execution_count": 259,
      "outputs": []
    },
    {
      "cell_type": "code",
      "metadata": {
        "id": "RGaoZat6ZqE6",
        "colab_type": "code",
        "colab": {
          "base_uri": "https://localhost:8080/",
          "height": 119
        },
        "outputId": "1f0f07cc-5a05-4109-acd5-43440c08cbe5"
      },
      "source": [
        "train_data_encoded.columns"
      ],
      "execution_count": 260,
      "outputs": [
        {
          "output_type": "execute_result",
          "data": {
            "text/plain": [
              "Index(['ApplicantIncome', 'CoapplicantIncome', 'LoanAmount',\n",
              "       'Loan_Amount_Term', 'Credit_History', 'Gender_Male', 'Married_Yes',\n",
              "       'Dependents_1', 'Dependents_2', 'Dependents_3+',\n",
              "       'Education_Not Graduate', 'Self_Employed_Yes',\n",
              "       'Property_Area_Semiurban', 'Property_Area_Urban', 'Loan_Status_Y'],\n",
              "      dtype='object')"
            ]
          },
          "metadata": {
            "tags": []
          },
          "execution_count": 260
        }
      ]
    },
    {
      "cell_type": "code",
      "metadata": {
        "id": "HkcQaOeZm2ul",
        "colab_type": "code",
        "colab": {
          "base_uri": "https://localhost:8080/",
          "height": 119
        },
        "outputId": "439e919b-dd13-4a6c-d7b4-a96a3ae2675d"
      },
      "source": [
        "test_data_encoded.columns"
      ],
      "execution_count": 261,
      "outputs": [
        {
          "output_type": "execute_result",
          "data": {
            "text/plain": [
              "Index(['ApplicantIncome', 'CoapplicantIncome', 'LoanAmount',\n",
              "       'Loan_Amount_Term', 'Credit_History', 'Gender_Male', 'Married_Yes',\n",
              "       'Dependents_1', 'Dependents_2', 'Dependents_3+',\n",
              "       'Education_Not Graduate', 'Self_Employed_Yes',\n",
              "       'Property_Area_Semiurban', 'Property_Area_Urban'],\n",
              "      dtype='object')"
            ]
          },
          "metadata": {
            "tags": []
          },
          "execution_count": 261
        }
      ]
    },
    {
      "cell_type": "code",
      "metadata": {
        "id": "wBXuHbGGEVhM",
        "colab_type": "code",
        "colab": {}
      },
      "source": [
        "# saving encoded train dataset \n",
        "train_data_encoded.to_csv('/content/drive/My Drive/Hackathon/final_train_encoded.csv')"
      ],
      "execution_count": 262,
      "outputs": []
    },
    {
      "cell_type": "code",
      "metadata": {
        "id": "rFUzIUvQEV8-",
        "colab_type": "code",
        "colab": {}
      },
      "source": [
        "# saving encoded test dataset\n",
        "test_data_encoded.to_csv('/content/drive/My Drive/Hackathon/final_test_encoded.csv')"
      ],
      "execution_count": 263,
      "outputs": []
    },
    {
      "cell_type": "code",
      "metadata": {
        "id": "7SsKFjkaDRAB",
        "colab_type": "code",
        "colab": {}
      },
      "source": [
        "# saving loan status and dropping it from train dataset.\n",
        "train_Loan_status=train_data_encoded['Loan_Status_Y']\n",
        "train_data_encoded=train_data_encoded.drop('Loan_Status_Y',axis=1)"
      ],
      "execution_count": 264,
      "outputs": []
    },
    {
      "cell_type": "code",
      "metadata": {
        "id": "ZVbSCp5iOhcl",
        "colab_type": "code",
        "colab": {
          "base_uri": "https://localhost:8080/",
          "height": 68
        },
        "outputId": "27e69fb5-5979-4c1f-f1c6-92e5be88bca9"
      },
      "source": [
        "train_Loan_status.head(2)"
      ],
      "execution_count": 265,
      "outputs": [
        {
          "output_type": "execute_result",
          "data": {
            "text/plain": [
              "0    1\n",
              "1    0\n",
              "Name: Loan_Status_Y, dtype: uint8"
            ]
          },
          "metadata": {
            "tags": []
          },
          "execution_count": 265
        }
      ]
    },
    {
      "cell_type": "code",
      "metadata": {
        "id": "qJBRrTjGOn9N",
        "colab_type": "code",
        "colab": {}
      },
      "source": [
        "# saving train_loan_status\n",
        "train_Loan_status.to_csv('/content/drive/My Drive/Hackathon/train_Loan_status.csv')"
      ],
      "execution_count": 266,
      "outputs": []
    },
    {
      "cell_type": "markdown",
      "metadata": {
        "id": "ysVyPffDExs0",
        "colab_type": "text"
      },
      "source": [
        "## EDA"
      ]
    },
    {
      "cell_type": "code",
      "metadata": {
        "id": "_who8Za4EwGq",
        "colab_type": "code",
        "colab": {}
      },
      "source": [
        "eda_train_data_encoded = pd.read_csv('/content/drive/My Drive/Hackathon/final_train_encoded.csv')\n",
        "eda_test_data_encoded = pd.read_csv('/content/drive/My Drive/Hackathon/final_test_encoded.csv')"
      ],
      "execution_count": 267,
      "outputs": []
    },
    {
      "cell_type": "code",
      "metadata": {
        "id": "XlGzlQewFSUU",
        "colab_type": "code",
        "colab": {}
      },
      "source": [
        "eda_train_data_encoded=eda_train_data_encoded.drop(['Unnamed: 0'], axis=1)\n",
        "eda_test_data_encoded=eda_test_data_encoded.drop(['Unnamed: 0'], axis=1)"
      ],
      "execution_count": 268,
      "outputs": []
    },
    {
      "cell_type": "code",
      "metadata": {
        "id": "RtlPKa9gEwfZ",
        "colab_type": "code",
        "colab": {
          "base_uri": "https://localhost:8080/",
          "height": 148
        },
        "outputId": "48bce1eb-cbdf-4e88-954e-367c5b9b490c"
      },
      "source": [
        "eda_train_data_encoded.head(2)"
      ],
      "execution_count": 269,
      "outputs": [
        {
          "output_type": "execute_result",
          "data": {
            "text/html": [
              "<div>\n",
              "<style scoped>\n",
              "    .dataframe tbody tr th:only-of-type {\n",
              "        vertical-align: middle;\n",
              "    }\n",
              "\n",
              "    .dataframe tbody tr th {\n",
              "        vertical-align: top;\n",
              "    }\n",
              "\n",
              "    .dataframe thead th {\n",
              "        text-align: right;\n",
              "    }\n",
              "</style>\n",
              "<table border=\"1\" class=\"dataframe\">\n",
              "  <thead>\n",
              "    <tr style=\"text-align: right;\">\n",
              "      <th></th>\n",
              "      <th>ApplicantIncome</th>\n",
              "      <th>CoapplicantIncome</th>\n",
              "      <th>LoanAmount</th>\n",
              "      <th>Loan_Amount_Term</th>\n",
              "      <th>Credit_History</th>\n",
              "      <th>Gender_Male</th>\n",
              "      <th>Married_Yes</th>\n",
              "      <th>Dependents_1</th>\n",
              "      <th>Dependents_2</th>\n",
              "      <th>Dependents_3+</th>\n",
              "      <th>Education_Not Graduate</th>\n",
              "      <th>Self_Employed_Yes</th>\n",
              "      <th>Property_Area_Semiurban</th>\n",
              "      <th>Property_Area_Urban</th>\n",
              "      <th>Loan_Status_Y</th>\n",
              "    </tr>\n",
              "  </thead>\n",
              "  <tbody>\n",
              "    <tr>\n",
              "      <th>0</th>\n",
              "      <td>5849</td>\n",
              "      <td>0.0</td>\n",
              "      <td>128.0</td>\n",
              "      <td>360.0</td>\n",
              "      <td>1.0</td>\n",
              "      <td>1</td>\n",
              "      <td>0</td>\n",
              "      <td>0</td>\n",
              "      <td>0</td>\n",
              "      <td>0</td>\n",
              "      <td>0</td>\n",
              "      <td>0</td>\n",
              "      <td>0</td>\n",
              "      <td>1</td>\n",
              "      <td>1</td>\n",
              "    </tr>\n",
              "    <tr>\n",
              "      <th>1</th>\n",
              "      <td>4583</td>\n",
              "      <td>1508.0</td>\n",
              "      <td>128.0</td>\n",
              "      <td>360.0</td>\n",
              "      <td>1.0</td>\n",
              "      <td>1</td>\n",
              "      <td>1</td>\n",
              "      <td>1</td>\n",
              "      <td>0</td>\n",
              "      <td>0</td>\n",
              "      <td>0</td>\n",
              "      <td>0</td>\n",
              "      <td>0</td>\n",
              "      <td>0</td>\n",
              "      <td>0</td>\n",
              "    </tr>\n",
              "  </tbody>\n",
              "</table>\n",
              "</div>"
            ],
            "text/plain": [
              "   ApplicantIncome  CoapplicantIncome  ...  Property_Area_Urban  Loan_Status_Y\n",
              "0             5849                0.0  ...                    1              1\n",
              "1             4583             1508.0  ...                    0              0\n",
              "\n",
              "[2 rows x 15 columns]"
            ]
          },
          "metadata": {
            "tags": []
          },
          "execution_count": 269
        }
      ]
    },
    {
      "cell_type": "code",
      "metadata": {
        "id": "6BLe0ze0Evbg",
        "colab_type": "code",
        "colab": {
          "base_uri": "https://localhost:8080/",
          "height": 148
        },
        "outputId": "cdccc695-920c-46b0-d0c1-4032afebed69"
      },
      "source": [
        "eda_test_data_encoded.head(2)"
      ],
      "execution_count": 270,
      "outputs": [
        {
          "output_type": "execute_result",
          "data": {
            "text/html": [
              "<div>\n",
              "<style scoped>\n",
              "    .dataframe tbody tr th:only-of-type {\n",
              "        vertical-align: middle;\n",
              "    }\n",
              "\n",
              "    .dataframe tbody tr th {\n",
              "        vertical-align: top;\n",
              "    }\n",
              "\n",
              "    .dataframe thead th {\n",
              "        text-align: right;\n",
              "    }\n",
              "</style>\n",
              "<table border=\"1\" class=\"dataframe\">\n",
              "  <thead>\n",
              "    <tr style=\"text-align: right;\">\n",
              "      <th></th>\n",
              "      <th>ApplicantIncome</th>\n",
              "      <th>CoapplicantIncome</th>\n",
              "      <th>LoanAmount</th>\n",
              "      <th>Loan_Amount_Term</th>\n",
              "      <th>Credit_History</th>\n",
              "      <th>Gender_Male</th>\n",
              "      <th>Married_Yes</th>\n",
              "      <th>Dependents_1</th>\n",
              "      <th>Dependents_2</th>\n",
              "      <th>Dependents_3+</th>\n",
              "      <th>Education_Not Graduate</th>\n",
              "      <th>Self_Employed_Yes</th>\n",
              "      <th>Property_Area_Semiurban</th>\n",
              "      <th>Property_Area_Urban</th>\n",
              "    </tr>\n",
              "  </thead>\n",
              "  <tbody>\n",
              "    <tr>\n",
              "      <th>0</th>\n",
              "      <td>5720</td>\n",
              "      <td>0</td>\n",
              "      <td>110.0</td>\n",
              "      <td>360.0</td>\n",
              "      <td>1.0</td>\n",
              "      <td>1</td>\n",
              "      <td>1</td>\n",
              "      <td>0</td>\n",
              "      <td>0</td>\n",
              "      <td>0</td>\n",
              "      <td>0</td>\n",
              "      <td>0</td>\n",
              "      <td>0</td>\n",
              "      <td>1</td>\n",
              "    </tr>\n",
              "    <tr>\n",
              "      <th>1</th>\n",
              "      <td>3076</td>\n",
              "      <td>1500</td>\n",
              "      <td>126.0</td>\n",
              "      <td>360.0</td>\n",
              "      <td>1.0</td>\n",
              "      <td>1</td>\n",
              "      <td>1</td>\n",
              "      <td>1</td>\n",
              "      <td>0</td>\n",
              "      <td>0</td>\n",
              "      <td>0</td>\n",
              "      <td>0</td>\n",
              "      <td>0</td>\n",
              "      <td>1</td>\n",
              "    </tr>\n",
              "  </tbody>\n",
              "</table>\n",
              "</div>"
            ],
            "text/plain": [
              "   ApplicantIncome  ...  Property_Area_Urban\n",
              "0             5720  ...                    1\n",
              "1             3076  ...                    1\n",
              "\n",
              "[2 rows x 14 columns]"
            ]
          },
          "metadata": {
            "tags": []
          },
          "execution_count": 270
        }
      ]
    },
    {
      "cell_type": "code",
      "metadata": {
        "id": "H99bM4fCFSRg",
        "colab_type": "code",
        "colab": {
          "base_uri": "https://localhost:8080/",
          "height": 391
        },
        "outputId": "55ea886e-a2fa-4527-8974-a52c4e5b9680"
      },
      "source": [
        "eda_train_data_encoded.info()"
      ],
      "execution_count": 271,
      "outputs": [
        {
          "output_type": "stream",
          "text": [
            "<class 'pandas.core.frame.DataFrame'>\n",
            "RangeIndex: 614 entries, 0 to 613\n",
            "Data columns (total 15 columns):\n",
            " #   Column                   Non-Null Count  Dtype  \n",
            "---  ------                   --------------  -----  \n",
            " 0   ApplicantIncome          614 non-null    int64  \n",
            " 1   CoapplicantIncome        614 non-null    float64\n",
            " 2   LoanAmount               614 non-null    float64\n",
            " 3   Loan_Amount_Term         614 non-null    float64\n",
            " 4   Credit_History           614 non-null    float64\n",
            " 5   Gender_Male              614 non-null    int64  \n",
            " 6   Married_Yes              614 non-null    int64  \n",
            " 7   Dependents_1             614 non-null    int64  \n",
            " 8   Dependents_2             614 non-null    int64  \n",
            " 9   Dependents_3+            614 non-null    int64  \n",
            " 10  Education_Not Graduate   614 non-null    int64  \n",
            " 11  Self_Employed_Yes        614 non-null    int64  \n",
            " 12  Property_Area_Semiurban  614 non-null    int64  \n",
            " 13  Property_Area_Urban      614 non-null    int64  \n",
            " 14  Loan_Status_Y            614 non-null    int64  \n",
            "dtypes: float64(4), int64(11)\n",
            "memory usage: 72.1 KB\n"
          ],
          "name": "stdout"
        }
      ]
    },
    {
      "cell_type": "markdown",
      "metadata": {
        "id": "XYXJd9OXGDyz",
        "colab_type": "text"
      },
      "source": [
        "\n",
        "The describe() function is used to generate descriptive statistics that summarize the central tendency, dispersion and shape of a dataset’s distribution, excluding NaN values. Refer https://www.w3resource.com/pandas/dataframe/dataframe-describe.php#:~:text=DataFrame%20%2D%20describe()%20function,dataset's%20distribution%2C%20excluding%20NaN%20values.&text=The%20percentiles%20to%20include%20in,fall%20between%200%20and%201.\n"
      ]
    },
    {
      "cell_type": "code",
      "metadata": {
        "id": "GtIrcO0zFSOr",
        "colab_type": "code",
        "colab": {
          "base_uri": "https://localhost:8080/",
          "height": 334
        },
        "outputId": "ce4e5880-5a5f-4d7c-c20e-490c53f41ddc"
      },
      "source": [
        "eda_train_data_encoded.describe()"
      ],
      "execution_count": 272,
      "outputs": [
        {
          "output_type": "execute_result",
          "data": {
            "text/html": [
              "<div>\n",
              "<style scoped>\n",
              "    .dataframe tbody tr th:only-of-type {\n",
              "        vertical-align: middle;\n",
              "    }\n",
              "\n",
              "    .dataframe tbody tr th {\n",
              "        vertical-align: top;\n",
              "    }\n",
              "\n",
              "    .dataframe thead th {\n",
              "        text-align: right;\n",
              "    }\n",
              "</style>\n",
              "<table border=\"1\" class=\"dataframe\">\n",
              "  <thead>\n",
              "    <tr style=\"text-align: right;\">\n",
              "      <th></th>\n",
              "      <th>ApplicantIncome</th>\n",
              "      <th>CoapplicantIncome</th>\n",
              "      <th>LoanAmount</th>\n",
              "      <th>Loan_Amount_Term</th>\n",
              "      <th>Credit_History</th>\n",
              "      <th>Gender_Male</th>\n",
              "      <th>Married_Yes</th>\n",
              "      <th>Dependents_1</th>\n",
              "      <th>Dependents_2</th>\n",
              "      <th>Dependents_3+</th>\n",
              "      <th>Education_Not Graduate</th>\n",
              "      <th>Self_Employed_Yes</th>\n",
              "      <th>Property_Area_Semiurban</th>\n",
              "      <th>Property_Area_Urban</th>\n",
              "      <th>Loan_Status_Y</th>\n",
              "    </tr>\n",
              "  </thead>\n",
              "  <tbody>\n",
              "    <tr>\n",
              "      <th>count</th>\n",
              "      <td>614.000000</td>\n",
              "      <td>614.000000</td>\n",
              "      <td>614.000000</td>\n",
              "      <td>614.000000</td>\n",
              "      <td>614.000000</td>\n",
              "      <td>614.000000</td>\n",
              "      <td>614.000000</td>\n",
              "      <td>614.000000</td>\n",
              "      <td>614.000000</td>\n",
              "      <td>614.000000</td>\n",
              "      <td>614.000000</td>\n",
              "      <td>614.000000</td>\n",
              "      <td>614.000000</td>\n",
              "      <td>614.000000</td>\n",
              "      <td>614.000000</td>\n",
              "    </tr>\n",
              "    <tr>\n",
              "      <th>mean</th>\n",
              "      <td>5403.459283</td>\n",
              "      <td>1621.245798</td>\n",
              "      <td>145.752443</td>\n",
              "      <td>342.410423</td>\n",
              "      <td>0.855049</td>\n",
              "      <td>0.817590</td>\n",
              "      <td>0.653094</td>\n",
              "      <td>0.166124</td>\n",
              "      <td>0.164495</td>\n",
              "      <td>0.083062</td>\n",
              "      <td>0.218241</td>\n",
              "      <td>0.133550</td>\n",
              "      <td>0.379479</td>\n",
              "      <td>0.328990</td>\n",
              "      <td>0.687296</td>\n",
              "    </tr>\n",
              "    <tr>\n",
              "      <th>std</th>\n",
              "      <td>6109.041673</td>\n",
              "      <td>2926.248369</td>\n",
              "      <td>84.107233</td>\n",
              "      <td>64.428629</td>\n",
              "      <td>0.352339</td>\n",
              "      <td>0.386497</td>\n",
              "      <td>0.476373</td>\n",
              "      <td>0.372495</td>\n",
              "      <td>0.371027</td>\n",
              "      <td>0.276201</td>\n",
              "      <td>0.413389</td>\n",
              "      <td>0.340446</td>\n",
              "      <td>0.485653</td>\n",
              "      <td>0.470229</td>\n",
              "      <td>0.463973</td>\n",
              "    </tr>\n",
              "    <tr>\n",
              "      <th>min</th>\n",
              "      <td>150.000000</td>\n",
              "      <td>0.000000</td>\n",
              "      <td>9.000000</td>\n",
              "      <td>12.000000</td>\n",
              "      <td>0.000000</td>\n",
              "      <td>0.000000</td>\n",
              "      <td>0.000000</td>\n",
              "      <td>0.000000</td>\n",
              "      <td>0.000000</td>\n",
              "      <td>0.000000</td>\n",
              "      <td>0.000000</td>\n",
              "      <td>0.000000</td>\n",
              "      <td>0.000000</td>\n",
              "      <td>0.000000</td>\n",
              "      <td>0.000000</td>\n",
              "    </tr>\n",
              "    <tr>\n",
              "      <th>25%</th>\n",
              "      <td>2877.500000</td>\n",
              "      <td>0.000000</td>\n",
              "      <td>100.250000</td>\n",
              "      <td>360.000000</td>\n",
              "      <td>1.000000</td>\n",
              "      <td>1.000000</td>\n",
              "      <td>0.000000</td>\n",
              "      <td>0.000000</td>\n",
              "      <td>0.000000</td>\n",
              "      <td>0.000000</td>\n",
              "      <td>0.000000</td>\n",
              "      <td>0.000000</td>\n",
              "      <td>0.000000</td>\n",
              "      <td>0.000000</td>\n",
              "      <td>0.000000</td>\n",
              "    </tr>\n",
              "    <tr>\n",
              "      <th>50%</th>\n",
              "      <td>3812.500000</td>\n",
              "      <td>1188.500000</td>\n",
              "      <td>128.000000</td>\n",
              "      <td>360.000000</td>\n",
              "      <td>1.000000</td>\n",
              "      <td>1.000000</td>\n",
              "      <td>1.000000</td>\n",
              "      <td>0.000000</td>\n",
              "      <td>0.000000</td>\n",
              "      <td>0.000000</td>\n",
              "      <td>0.000000</td>\n",
              "      <td>0.000000</td>\n",
              "      <td>0.000000</td>\n",
              "      <td>0.000000</td>\n",
              "      <td>1.000000</td>\n",
              "    </tr>\n",
              "    <tr>\n",
              "      <th>75%</th>\n",
              "      <td>5795.000000</td>\n",
              "      <td>2297.250000</td>\n",
              "      <td>164.750000</td>\n",
              "      <td>360.000000</td>\n",
              "      <td>1.000000</td>\n",
              "      <td>1.000000</td>\n",
              "      <td>1.000000</td>\n",
              "      <td>0.000000</td>\n",
              "      <td>0.000000</td>\n",
              "      <td>0.000000</td>\n",
              "      <td>0.000000</td>\n",
              "      <td>0.000000</td>\n",
              "      <td>1.000000</td>\n",
              "      <td>1.000000</td>\n",
              "      <td>1.000000</td>\n",
              "    </tr>\n",
              "    <tr>\n",
              "      <th>max</th>\n",
              "      <td>81000.000000</td>\n",
              "      <td>41667.000000</td>\n",
              "      <td>700.000000</td>\n",
              "      <td>480.000000</td>\n",
              "      <td>1.000000</td>\n",
              "      <td>1.000000</td>\n",
              "      <td>1.000000</td>\n",
              "      <td>1.000000</td>\n",
              "      <td>1.000000</td>\n",
              "      <td>1.000000</td>\n",
              "      <td>1.000000</td>\n",
              "      <td>1.000000</td>\n",
              "      <td>1.000000</td>\n",
              "      <td>1.000000</td>\n",
              "      <td>1.000000</td>\n",
              "    </tr>\n",
              "  </tbody>\n",
              "</table>\n",
              "</div>"
            ],
            "text/plain": [
              "       ApplicantIncome  CoapplicantIncome  ...  Property_Area_Urban  Loan_Status_Y\n",
              "count       614.000000         614.000000  ...           614.000000     614.000000\n",
              "mean       5403.459283        1621.245798  ...             0.328990       0.687296\n",
              "std        6109.041673        2926.248369  ...             0.470229       0.463973\n",
              "min         150.000000           0.000000  ...             0.000000       0.000000\n",
              "25%        2877.500000           0.000000  ...             0.000000       0.000000\n",
              "50%        3812.500000        1188.500000  ...             0.000000       1.000000\n",
              "75%        5795.000000        2297.250000  ...             1.000000       1.000000\n",
              "max       81000.000000       41667.000000  ...             1.000000       1.000000\n",
              "\n",
              "[8 rows x 15 columns]"
            ]
          },
          "metadata": {
            "tags": []
          },
          "execution_count": 272
        }
      ]
    },
    {
      "cell_type": "markdown",
      "metadata": {
        "id": "1AkJLz-1GtiH",
        "colab_type": "text"
      },
      "source": [
        "### univariate analysis"
      ]
    },
    {
      "cell_type": "code",
      "metadata": {
        "id": "d0qzcmnOFSL9",
        "colab_type": "code",
        "colab": {}
      },
      "source": [
        "df=eda_train_data_encoded.drop(['Loan_Status_Y'],axis=1)"
      ],
      "execution_count": 273,
      "outputs": []
    },
    {
      "cell_type": "code",
      "metadata": {
        "id": "Fezza-_jFSI9",
        "colab_type": "code",
        "colab": {
          "base_uri": "https://localhost:8080/",
          "height": 255
        },
        "outputId": "e64fa2af-d2d0-469c-a4eb-74cfd7ef2627"
      },
      "source": [
        "# checking skewness\n",
        "\n",
        "for i in df:\n",
        "  print('skewness of',i,'is',df[i].skew())"
      ],
      "execution_count": 274,
      "outputs": [
        {
          "output_type": "stream",
          "text": [
            "skewness of ApplicantIncome is 6.539513113994625\n",
            "skewness of CoapplicantIncome is 7.491531216657306\n",
            "skewness of LoanAmount is 2.743052748820892\n",
            "skewness of Loan_Amount_Term is -2.4021122563890396\n",
            "skewness of Credit_History is -2.0219705924848985\n",
            "skewness of Gender_Male is -1.6487952886687591\n",
            "skewness of Married_Yes is -0.6448502342244192\n",
            "skewness of Dependents_1 is 1.7985055859918986\n",
            "skewness of Dependents_2 is 1.8144326292320414\n",
            "skewness of Dependents_3+ is 3.0289609627774667\n",
            "skewness of Education_Not Graduate is 1.367622010164177\n",
            "skewness of Self_Employed_Yes is 2.159796196971883\n",
            "skewness of Property_Area_Semiurban is 0.4979483157127445\n",
            "skewness of Property_Area_Urban is 0.7297229458371128\n"
          ],
          "name": "stdout"
        }
      ]
    },
    {
      "cell_type": "markdown",
      "metadata": {
        "id": "bqNWwsKLIfs5",
        "colab_type": "text"
      },
      "source": [
        "\n",
        "*   High skewness means -->  skewness is less than -1 or skewnwss is greater that 1\n",
        "\n",
        "*   Moderate skewness means --> skewness is in range [-1,-0.5] or skewness is in range [0.5,1].\n",
        "\n",
        "*   nearly symmetric means --> skewness is in range [-0.5,0.5]\n",
        "\n",
        "Observations:\n",
        "\n",
        "Highly skewed features are - Gender_Male,, Dependents_1, Dependents_2, Dependents_3+, Education_Not Graduate, Self_Employed, ApplicantIncome, CoapplicantIncome, LoanAmount, Loan_Amount_Term, Credit_History\n",
        "\n",
        "\n",
        "Moderate skewed features are - Married_Yes, Property_Area_Urban\n",
        "\n",
        "\n",
        "symmetric skewness fatures are - Property_Area_Semiurban\n"
      ]
    },
    {
      "cell_type": "code",
      "metadata": {
        "id": "6VmtT6ipFSCG",
        "colab_type": "code",
        "colab": {
          "base_uri": "https://localhost:8080/",
          "height": 68
        },
        "outputId": "8e432a92-f4ee-45b5-85be-947b060396a6"
      },
      "source": [
        "eda_train_data_encoded['Loan_Status_Y'].value_counts()"
      ],
      "execution_count": 275,
      "outputs": [
        {
          "output_type": "execute_result",
          "data": {
            "text/plain": [
              "1    422\n",
              "0    192\n",
              "Name: Loan_Status_Y, dtype: int64"
            ]
          },
          "metadata": {
            "tags": []
          },
          "execution_count": 275
        }
      ]
    },
    {
      "cell_type": "markdown",
      "metadata": {
        "id": "H9MAWv_iXqsN",
        "colab_type": "text"
      },
      "source": [
        "As we can see the counts, our dataset is imbalanced dataset. Count of 1' is nearly twice as of 0"
      ]
    },
    {
      "cell_type": "code",
      "metadata": {
        "id": "PK0V-ImrFR8j",
        "colab_type": "code",
        "colab": {
          "base_uri": "https://localhost:8080/",
          "height": 282
        },
        "outputId": "4cf77e17-5a44-41b6-ec00-391010b98042"
      },
      "source": [
        "eda_train_data_encoded['Loan_Status_Y'].hist(grid = False)"
      ],
      "execution_count": 278,
      "outputs": [
        {
          "output_type": "execute_result",
          "data": {
            "text/plain": [
              "<matplotlib.axes._subplots.AxesSubplot at 0x7f128cfe0438>"
            ]
          },
          "metadata": {
            "tags": []
          },
          "execution_count": 278
        },
        {
          "output_type": "display_data",
          "data": {
            "image/png": "[encoded data removed]",
            "text/plain": [
              "<Figure size 432x288 with 1 Axes>"
            ]
          },
          "metadata": {
            "tags": [],
            "needs_background": "light"
          }
        }
      ]
    },
    {
      "cell_type": "markdown",
      "metadata": {
        "id": "0Ydw3gQJYbxn",
        "colab_type": "text"
      },
      "source": [
        "From above graph we can say that our data is imbalanced."
      ]
    },
    {
      "cell_type": "code",
      "metadata": {
        "id": "v4HNF-BXFR5x",
        "colab_type": "code",
        "colab": {
          "base_uri": "https://localhost:8080/",
          "height": 285
        },
        "outputId": "631b5a91-41f7-4c9f-d255-1bd194bd279a"
      },
      "source": [
        "eda_train_data_encoded['Education_Not Graduate'].hist(grid = False)"
      ],
      "execution_count": 279,
      "outputs": [
        {
          "output_type": "execute_result",
          "data": {
            "text/plain": [
              "<matplotlib.axes._subplots.AxesSubplot at 0x7f128cf8cda0>"
            ]
          },
          "metadata": {
            "tags": []
          },
          "execution_count": 279
        },
        {
          "output_type": "display_data",
          "data": {
            "image/png": "[encoded data removed]",
            "text/plain": [
              "<Figure size 432x288 with 1 Axes>"
            ]
          },
          "metadata": {
            "tags": [],
            "needs_background": "light"
          }
        }
      ]
    },
    {
      "cell_type": "markdown",
      "metadata": {
        "id": "p2H4hUibZrv0",
        "colab_type": "text"
      },
      "source": [
        "{'Not Graduate': 1 , 'Graduate': 0}, as we can see count of 0 is greater than \n",
        "count of 1 - means no of people who applied for Loan are mostly Educated people.\n"
      ]
    },
    {
      "cell_type": "markdown",
      "metadata": {
        "id": "oP-vxioCZ4rp",
        "colab_type": "text"
      },
      "source": [
        "Applicant Income"
      ]
    },
    {
      "cell_type": "code",
      "metadata": {
        "id": "Sq6S_6C9FR3H",
        "colab_type": "code",
        "colab": {
          "base_uri": "https://localhost:8080/",
          "height": 281
        },
        "outputId": "822893a1-608e-4e6a-83d2-5c2569ef44d0"
      },
      "source": [
        "counts, bin_edges = np.histogram(eda_train_data_encoded['ApplicantIncome'], bins=20, density = True)\n",
        "pdf = counts/(sum(counts))\n",
        "plt.plot(bin_edges[1:],pdf)\n",
        "\n",
        "counts_1, bin_edges_1 = np.histogram(eda_test_data_encoded['ApplicantIncome'], bins=20, density = True)\n",
        "pdf_1 = counts_1/(sum(counts_1))\n",
        "plt.plot(bin_edges_1[1:],pdf_1)\n",
        "\n",
        "plt.title('pdf of ApplicantIncome')\n",
        "plt.legend(['eda_train_data_encoded_pdf', 'eda_test_data_encoded_pdf'])\n",
        "plt.show()"
      ],
      "execution_count": 280,
      "outputs": [
        {
          "output_type": "display_data",
          "data": {
            "image/png": "[encoded data removed]",
            "text/plain": [
              "<Figure size 432x288 with 1 Axes>"
            ]
          },
          "metadata": {
            "tags": [],
            "needs_background": "light"
          }
        }
      ]
    },
    {
      "cell_type": "markdown",
      "metadata": {
        "id": "L1u43PZ2aWQ1",
        "colab_type": "text"
      },
      "source": [
        "As we can see that both train_data and test_data dist plot looks similar, means having similar kind of distributions"
      ]
    },
    {
      "cell_type": "markdown",
      "metadata": {
        "id": "U5LhE9mQabIl",
        "colab_type": "text"
      },
      "source": [
        "LoanAmount"
      ]
    },
    {
      "cell_type": "code",
      "metadata": {
        "id": "LPJxpxJmad5P",
        "colab_type": "code",
        "colab": {
          "base_uri": "https://localhost:8080/",
          "height": 281
        },
        "outputId": "d91aa0c1-6eff-4c5b-e6e3-9d785e81b8af"
      },
      "source": [
        "counts, bin_edges = np.histogram(eda_train_data_encoded['LoanAmount'], bins=20, density = True)\n",
        "pdf = counts/(sum(counts))\n",
        "plt.plot(bin_edges[1:],pdf)\n",
        "\n",
        "counts_1, bin_edges_1 = np.histogram(eda_test_data_encoded['LoanAmount'], bins=20, density = True)\n",
        "pdf_1 = counts_1/(sum(counts_1))\n",
        "plt.plot(bin_edges_1[1:],pdf_1)\n",
        "\n",
        "plt.title('pdf of LoanAmount')\n",
        "plt.legend(['eda_train_data_encoded_pdf', 'eda_test_data_encoded_pdf'])\n",
        "plt.show()"
      ],
      "execution_count": 281,
      "outputs": [
        {
          "output_type": "display_data",
          "data": {
            "image/png": "[encoded data removed]",
            "text/plain": [
              "<Figure size 432x288 with 1 Axes>"
            ]
          },
          "metadata": {
            "tags": [],
            "needs_background": "light"
          }
        }
      ]
    },
    {
      "cell_type": "markdown",
      "metadata": {
        "id": "DxRTvH3kaoHX",
        "colab_type": "text"
      },
      "source": [
        "As we can see that both train_data and test_data dist plot looks similar, means having similar kind of distributions"
      ]
    },
    {
      "cell_type": "markdown",
      "metadata": {
        "id": "PKGKWk4matnQ",
        "colab_type": "text"
      },
      "source": [
        "Loan_Amount_Term"
      ]
    },
    {
      "cell_type": "code",
      "metadata": {
        "id": "LHWsL_bCad-W",
        "colab_type": "code",
        "colab": {
          "base_uri": "https://localhost:8080/",
          "height": 281
        },
        "outputId": "828fd736-7490-4818-df15-21e3fbf94e9a"
      },
      "source": [
        "counts, bin_edges = np.histogram(eda_train_data_encoded['Loan_Amount_Term'], bins=20, density = True)\n",
        "pdf = counts/(sum(counts))\n",
        "plt.plot(bin_edges[1:],pdf)\n",
        "\n",
        "counts_1, bin_edges_1 = np.histogram(eda_test_data_encoded['Loan_Amount_Term'], bins=20, density = True)\n",
        "pdf_1 = counts_1/(sum(counts_1))\n",
        "plt.plot(bin_edges_1[1:],pdf_1)\n",
        "\n",
        "plt.title('pdf of Loan_Amount_Term')\n",
        "plt.legend(['eda_train_data_encoded_pdf', 'eda_test_data_encoded_pdf'])\n",
        "plt.show()"
      ],
      "execution_count": 282,
      "outputs": [
        {
          "output_type": "display_data",
          "data": {
            "image/png": "[encoded data removed]",
            "text/plain": [
              "<Figure size 432x288 with 1 Axes>"
            ]
          },
          "metadata": {
            "tags": [],
            "needs_background": "light"
          }
        }
      ]
    },
    {
      "cell_type": "code",
      "metadata": {
        "id": "nO9eMcxYFRzg",
        "colab_type": "code",
        "colab": {
          "base_uri": "https://localhost:8080/",
          "height": 265
        },
        "outputId": "6138c304-12ca-422d-e009-f46e3440004d"
      },
      "source": [
        "eda_train_data_encoded['Loan_Amount_Term'].value_counts().sort_values().plot(kind = 'barh')\n",
        "plt.show()"
      ],
      "execution_count": 283,
      "outputs": [
        {
          "output_type": "display_data",
          "data": {
            "image/png": "[encoded data removed]",
            "text/plain": [
              "<Figure size 432x288 with 1 Axes>"
            ]
          },
          "metadata": {
            "tags": [],
            "needs_background": "light"
          }
        }
      ]
    },
    {
      "cell_type": "markdown",
      "metadata": {
        "id": "mFuQN7rCbNME",
        "colab_type": "text"
      },
      "source": [
        "Most People take Term of loan for 360 Months."
      ]
    },
    {
      "cell_type": "markdown",
      "metadata": {
        "id": "z2xS1XAKbtQq",
        "colab_type": "text"
      },
      "source": [
        "CoapplicantIncome"
      ]
    },
    {
      "cell_type": "code",
      "metadata": {
        "id": "eeXkVQl5FRwq",
        "colab_type": "code",
        "colab": {
          "base_uri": "https://localhost:8080/",
          "height": 281
        },
        "outputId": "5b93827d-8d4e-451a-9dbf-e87cf9f23b05"
      },
      "source": [
        "counts, bin_edges = np.histogram(eda_train_data_encoded['CoapplicantIncome'], bins=20, density = True)\n",
        "pdf = counts/(sum(counts))\n",
        "plt.plot(bin_edges[1:],pdf)\n",
        "\n",
        "counts_1, bin_edges_1 = np.histogram(eda_test_data_encoded['CoapplicantIncome'], bins=20, density = True)\n",
        "pdf_1 = counts_1/(sum(counts_1))\n",
        "plt.plot(bin_edges_1[1:],pdf_1)\n",
        "\n",
        "plt.title('pdf of CoapplicantIncome')\n",
        "plt.legend(['eda_train_data_encoded_pdf', 'eda_test_data_encoded_pdf'])\n",
        "plt.show()"
      ],
      "execution_count": 284,
      "outputs": [
        {
          "output_type": "display_data",
          "data": {
            "image/png": "[encoded data removed]",
            "text/plain": [
              "<Figure size 432x288 with 1 Axes>"
            ]
          },
          "metadata": {
            "tags": [],
            "needs_background": "light"
          }
        }
      ]
    },
    {
      "cell_type": "markdown",
      "metadata": {
        "id": "YliCPp7_b9rv",
        "colab_type": "text"
      },
      "source": [
        "As we can see that both train_data and test_data dist plot looks similar, means having similar kind of distributions. \n",
        "we can see that the graph follows the power law distributions \n",
        "Very few people have higher Income"
      ]
    },
    {
      "cell_type": "markdown",
      "metadata": {
        "id": "R8IZM8ffcOAz",
        "colab_type": "text"
      },
      "source": [
        "### Bivariate Analysis"
      ]
    },
    {
      "cell_type": "markdown",
      "metadata": {
        "id": "kCxHx--BcVff",
        "colab_type": "text"
      },
      "source": [
        "Education_Not Graduate {'Not Graduate': 1 , 'Graduate': 0}"
      ]
    },
    {
      "cell_type": "code",
      "metadata": {
        "id": "1xS0K_e6FRth",
        "colab_type": "code",
        "colab": {
          "base_uri": "https://localhost:8080/",
          "height": 296
        },
        "outputId": "6a11e734-246e-4244-862c-c075bbf8ff59"
      },
      "source": [
        "sns.countplot('Loan_Status_Y', hue='Education_Not Graduate', data=eda_train_data_encoded)\n",
        "plt.xlabel(\"Education_Not Graduate and Loan_Status_Y\")\n",
        "plt.ylabel(\"Count\")\n",
        "\n",
        "plt.title(\"count plot for Education_Not Graduate w.r.t. Loan_Status_Y\")\n",
        "plt.show()"
      ],
      "execution_count": 285,
      "outputs": [
        {
          "output_type": "display_data",
          "data": {
            "image/png": "[encoded data removed]",
            "text/plain": [
              "<Figure size 432x288 with 1 Axes>"
            ]
          },
          "metadata": {
            "tags": [],
            "needs_background": "light"
          }
        }
      ]
    },
    {
      "cell_type": "markdown",
      "metadata": {
        "id": "v0cK0XP3dhSo",
        "colab_type": "text"
      },
      "source": [
        "As we can see that Education column have impact on Loan_Status. People, who are educated have higher chance of getting the loan. "
      ]
    },
    {
      "cell_type": "markdown",
      "metadata": {
        "id": "v8r6jipidhC8",
        "colab_type": "text"
      },
      "source": [
        "Gender_Male - {'Male': 1 , 'Female': 0}"
      ]
    },
    {
      "cell_type": "code",
      "metadata": {
        "id": "RjkPOERgewOy",
        "colab_type": "code",
        "colab": {
          "base_uri": "https://localhost:8080/",
          "height": 119
        },
        "outputId": "29d4609d-2c97-49bd-a7df-4e98e9879654"
      },
      "source": [
        "eda_train_data_encoded.columns"
      ],
      "execution_count": 286,
      "outputs": [
        {
          "output_type": "execute_result",
          "data": {
            "text/plain": [
              "Index(['ApplicantIncome', 'CoapplicantIncome', 'LoanAmount',\n",
              "       'Loan_Amount_Term', 'Credit_History', 'Gender_Male', 'Married_Yes',\n",
              "       'Dependents_1', 'Dependents_2', 'Dependents_3+',\n",
              "       'Education_Not Graduate', 'Self_Employed_Yes',\n",
              "       'Property_Area_Semiurban', 'Property_Area_Urban', 'Loan_Status_Y'],\n",
              "      dtype='object')"
            ]
          },
          "metadata": {
            "tags": []
          },
          "execution_count": 286
        }
      ]
    },
    {
      "cell_type": "code",
      "metadata": {
        "id": "60uHi3I0ewb7",
        "colab_type": "code",
        "colab": {
          "base_uri": "https://localhost:8080/",
          "height": 296
        },
        "outputId": "a81f9cec-3fe1-4225-c2ca-c547bded365e"
      },
      "source": [
        "sns.countplot('Loan_Status_Y', hue='Gender_Male', data=eda_train_data_encoded)\n",
        "plt.xlabel(\"Gender_Male and Loan_Status_Y\")\n",
        "plt.ylabel(\"Count\")\n",
        "plt.title(\"count plot for Gender_Male w.r.t. Loan_Status_Y\")\n",
        "plt.show()"
      ],
      "execution_count": 287,
      "outputs": [
        {
          "output_type": "display_data",
          "data": {
            "image/png": "[encoded data removed]",
            "text/plain": [
              "<Figure size 432x288 with 1 Axes>"
            ]
          },
          "metadata": {
            "tags": [],
            "needs_background": "light"
          }
        }
      ]
    },
    {
      "cell_type": "markdown",
      "metadata": {
        "id": "8J_w7hTyfM5a",
        "colab_type": "text"
      },
      "source": [
        "As we can see that Gender column has an impact on Loan_Status. Count of male is greater than the count of female for Loan_status_Y. "
      ]
    },
    {
      "cell_type": "markdown",
      "metadata": {
        "id": "mUAcuYoLfVva",
        "colab_type": "text"
      },
      "source": [
        "Self_Employed_Yes - {'No': 0 , 'Yes': 1}"
      ]
    },
    {
      "cell_type": "code",
      "metadata": {
        "id": "pqEoLaFIewX-",
        "colab_type": "code",
        "colab": {
          "base_uri": "https://localhost:8080/",
          "height": 296
        },
        "outputId": "e3d32daf-f249-4c28-b810-c604ba614d63"
      },
      "source": [
        "sns.countplot('Loan_Status_Y', hue='Self_Employed_Yes', data=eda_train_data_encoded)\n",
        "plt.xlabel(\"Self_Employed_Yes and Loan_Status_Y\")\n",
        "plt.ylabel(\"Count\")\n",
        "plt.title(\"count plot for Self_Employed_Yes w.r.t. Loan_Status_Y\")\n",
        "plt.show()"
      ],
      "execution_count": 288,
      "outputs": [
        {
          "output_type": "display_data",
          "data": {
            "image/png": "[encoded data removed]",
            "text/plain": [
              "<Figure size 432x288 with 1 Axes>"
            ]
          },
          "metadata": {
            "tags": [],
            "needs_background": "light"
          }
        }
      ]
    },
    {
      "cell_type": "markdown",
      "metadata": {
        "id": "7S0uxe3Kf3OW",
        "colab_type": "text"
      },
      "source": [
        "As we can see that count of non-self_Employed is much greater than the self_employed, means people who are self_Employed have lower chance of getting the Loan"
      ]
    },
    {
      "cell_type": "markdown",
      "metadata": {
        "id": "aoqGy8j_gAtr",
        "colab_type": "text"
      },
      "source": [
        "ApplicantIncome"
      ]
    },
    {
      "cell_type": "code",
      "metadata": {
        "id": "MgkpgWh9FRp6",
        "colab_type": "code",
        "colab": {
          "base_uri": "https://localhost:8080/",
          "height": 280
        },
        "outputId": "49c49877-71b1-46f1-a1a1-464f65ef0e9f"
      },
      "source": [
        "sns.violinplot(x=\"Loan_Status_Y\", y=\"ApplicantIncome\", data=eda_train_data_encoded, size=8)\n",
        "plt.show()"
      ],
      "execution_count": 289,
      "outputs": [
        {
          "output_type": "display_data",
          "data": {
            "image/png": "[encoded data removed]",
            "text/plain": [
              "<Figure size 432x288 with 1 Axes>"
            ]
          },
          "metadata": {
            "tags": [],
            "needs_background": "light"
          }
        }
      ]
    },
    {
      "cell_type": "code",
      "metadata": {
        "id": "yUekqeKrFRmo",
        "colab_type": "code",
        "colab": {
          "base_uri": "https://localhost:8080/",
          "height": 34
        },
        "outputId": "1b2eec8d-8359-4bf6-9d71-98060a177f77"
      },
      "source": [
        "np.mean(eda_train_data_encoded['ApplicantIncome'])"
      ],
      "execution_count": 290,
      "outputs": [
        {
          "output_type": "execute_result",
          "data": {
            "text/plain": [
              "5403.459283387622"
            ]
          },
          "metadata": {
            "tags": []
          },
          "execution_count": 290
        }
      ]
    },
    {
      "cell_type": "markdown",
      "metadata": {
        "id": "bNzG1N1-geKX",
        "colab_type": "text"
      },
      "source": [
        "As we can see that most of the people have income in very short range. The graph is looking like Gaussian with skewness. Values are centered around 5403"
      ]
    },
    {
      "cell_type": "markdown",
      "metadata": {
        "id": "B9abT5xBgxSb",
        "colab_type": "text"
      },
      "source": [
        "LoanAmount"
      ]
    },
    {
      "cell_type": "code",
      "metadata": {
        "id": "ETtfmZ0qgYFf",
        "colab_type": "code",
        "colab": {
          "base_uri": "https://localhost:8080/",
          "height": 296
        },
        "outputId": "56757e76-bbfb-4446-8975-0d5274a29d3c"
      },
      "source": [
        "plt.title('box plot')\n",
        "sns.boxplot(x='Loan_Status_Y',y='LoanAmount', data=eda_train_data_encoded)\n",
        "plt.show()"
      ],
      "execution_count": 291,
      "outputs": [
        {
          "output_type": "display_data",
          "data": {
            "image/png": "[encoded data removed]",
            "text/plain": [
              "<Figure size 432x288 with 1 Axes>"
            ]
          },
          "metadata": {
            "tags": [],
            "needs_background": "light"
          }
        }
      ]
    },
    {
      "cell_type": "markdown",
      "metadata": {
        "id": "z6fB-1hlhZRf",
        "colab_type": "text"
      },
      "source": [
        "As we can see that range is similar for Loan_Status 'Y' and 'N'. and We have outliers in LoanAmount. "
      ]
    },
    {
      "cell_type": "code",
      "metadata": {
        "id": "F86Hqa70gX45",
        "colab_type": "code",
        "colab": {
          "base_uri": "https://localhost:8080/",
          "height": 280
        },
        "outputId": "e604d975-3830-44c9-fda7-98a8d6a7d016"
      },
      "source": [
        "sns.violinplot(x=\"Loan_Status_Y\", y=\"LoanAmount\", data=eda_train_data_encoded, size=8)\n",
        "plt.show()"
      ],
      "execution_count": 292,
      "outputs": [
        {
          "output_type": "display_data",
          "data": {
            "image/png": "[encoded data removed]",
            "text/plain": [
              "<Figure size 432x288 with 1 Axes>"
            ]
          },
          "metadata": {
            "tags": [],
            "needs_background": "light"
          }
        }
      ]
    },
    {
      "cell_type": "markdown",
      "metadata": {
        "id": "ey-ulAONi9sH",
        "colab_type": "text"
      },
      "source": [
        "Married_Yes - {'No': 0 , 'Yes': 1}"
      ]
    },
    {
      "cell_type": "code",
      "metadata": {
        "id": "EckwkjNPgX2V",
        "colab_type": "code",
        "colab": {
          "base_uri": "https://localhost:8080/",
          "height": 296
        },
        "outputId": "cbb99a21-6e9f-4152-8c06-e118e91e2e2e"
      },
      "source": [
        "sns.countplot('Loan_Status_Y', hue='Married_Yes', data=eda_train_data_encoded)\n",
        "plt.xlabel(\"Married_Yes and Loan_Status_Y\")\n",
        "plt.ylabel(\"Count\")\n",
        "plt.title(\"count plot for Married_Yes w.r.t. Loan_Status_Y\")\n",
        "plt.show()"
      ],
      "execution_count": 293,
      "outputs": [
        {
          "output_type": "display_data",
          "data": {
            "image/png": "[encoded data removed]",
            "text/plain": [
              "<Figure size 432x288 with 1 Axes>"
            ]
          },
          "metadata": {
            "tags": [],
            "needs_background": "light"
          }
        }
      ]
    },
    {
      "cell_type": "markdown",
      "metadata": {
        "id": "jwVDGZkZjXYU",
        "colab_type": "text"
      },
      "source": [
        "As we can see the chances of married people is high in Loan approval "
      ]
    },
    {
      "cell_type": "markdown",
      "metadata": {
        "id": "Ic2cxqycjfQe",
        "colab_type": "text"
      },
      "source": [
        "Credit_History"
      ]
    },
    {
      "cell_type": "code",
      "metadata": {
        "id": "PCZhZkSZgXze",
        "colab_type": "code",
        "colab": {
          "base_uri": "https://localhost:8080/",
          "height": 296
        },
        "outputId": "5c99a93e-2820-4bd0-b8ec-dfa5324e6192"
      },
      "source": [
        "sns.countplot('Loan_Status_Y', hue='Credit_History', data=eda_train_data_encoded)\n",
        "plt.xlabel(\"Credit_History and Loan_Status_Y\")\n",
        "plt.ylabel(\"Count\")\n",
        "plt.title(\"count plot for Credit_History w.r.t. Loan_Status_Y\")\n",
        "plt.show()"
      ],
      "execution_count": 294,
      "outputs": [
        {
          "output_type": "display_data",
          "data": {
            "image/png": "[encoded data removed]",
            "text/plain": [
              "<Figure size 432x288 with 1 Axes>"
            ]
          },
          "metadata": {
            "tags": [],
            "needs_background": "light"
          }
        }
      ]
    },
    {
      "cell_type": "markdown",
      "metadata": {
        "id": "49Db0XzEjs-9",
        "colab_type": "text"
      },
      "source": [
        "The Cedit_History for 1, which means meeting guidelines have higher chances of loan approval"
      ]
    },
    {
      "cell_type": "markdown",
      "metadata": {
        "id": "HBFWxzp7to11",
        "colab_type": "text"
      },
      "source": [
        "LoanAmount and Loan_Amount_Term"
      ]
    },
    {
      "cell_type": "code",
      "metadata": {
        "id": "mWh8oePZscNe",
        "colab_type": "code",
        "colab": {
          "base_uri": "https://localhost:8080/",
          "height": 268
        },
        "outputId": "981891d6-bd7b-43a4-c7fe-4b1a9534b80a"
      },
      "source": [
        "plt.scatter(eda_train_data_encoded['LoanAmount'], eda_train_data_encoded['Loan_Amount_Term'])\n",
        "plt.show()"
      ],
      "execution_count": 295,
      "outputs": [
        {
          "output_type": "display_data",
          "data": {
            "image/png": "[encoded data removed]",
            "text/plain": [
              "<Figure size 432x288 with 1 Axes>"
            ]
          },
          "metadata": {
            "tags": [],
            "needs_background": "light"
          }
        }
      ]
    },
    {
      "cell_type": "markdown",
      "metadata": {
        "id": "wt9sFOyztOFk",
        "colab_type": "text"
      },
      "source": [
        "Here we can observe that there is little correlation between LoanAmount and Loan_Amount_Term. For less no of months we have less Loan Amount"
      ]
    },
    {
      "cell_type": "markdown",
      "metadata": {
        "id": "UPkCviCouE0y",
        "colab_type": "text"
      },
      "source": [
        "LoanAmount and ApplicantIncome"
      ]
    },
    {
      "cell_type": "code",
      "metadata": {
        "id": "UtUlFAoSl03d",
        "colab_type": "code",
        "colab": {
          "base_uri": "https://localhost:8080/",
          "height": 265
        },
        "outputId": "6d1cae86-77f0-4443-907e-8bef8351032e"
      },
      "source": [
        "plt.scatter(eda_train_data_encoded['LoanAmount'], eda_train_data_encoded['ApplicantIncome'])\n",
        "plt.show()"
      ],
      "execution_count": 296,
      "outputs": [
        {
          "output_type": "display_data",
          "data": {
            "image/png": "[encoded data removed]",
            "text/plain": [
              "<Figure size 432x288 with 1 Axes>"
            ]
          },
          "metadata": {
            "tags": [],
            "needs_background": "light"
          }
        }
      ]
    },
    {
      "cell_type": "markdown",
      "metadata": {
        "id": "EE8eEblTuP25",
        "colab_type": "text"
      },
      "source": [
        "Here we can observe that we have positive correlation between LoanAmount and ApplicantIncome."
      ]
    },
    {
      "cell_type": "markdown",
      "metadata": {
        "id": "-lSb4Y91jWxC",
        "colab_type": "text"
      },
      "source": [
        "## Normalization"
      ]
    },
    {
      "cell_type": "code",
      "metadata": {
        "id": "RHkkFOeU-hoe",
        "colab_type": "code",
        "colab": {}
      },
      "source": [
        "Norm_train_data = train_data_encoded\n",
        "Norm_test_data = test_data_encoded"
      ],
      "execution_count": 297,
      "outputs": []
    },
    {
      "cell_type": "code",
      "metadata": {
        "id": "5IH8HmOR73x3",
        "colab_type": "code",
        "colab": {}
      },
      "source": [
        "\n",
        "lst = ['ApplicantIncome','CoapplicantIncome','LoanAmount','Loan_Amount_Term']\n",
        "for i in lst:\n",
        "  Norm_train_data[i]=((Norm_train_data[i]-Norm_train_data[i].min())/(Norm_train_data[i].max()-Norm_train_data[i].min()))\n",
        "  Norm_test_data[i]=((Norm_test_data[i]-Norm_test_data[i].min())/(Norm_test_data[i].max()-Norm_test_data[i].min()))\n"
      ],
      "execution_count": 298,
      "outputs": []
    },
    {
      "cell_type": "code",
      "metadata": {
        "id": "dCb77TlNjHd-",
        "colab_type": "code",
        "colab": {
          "base_uri": "https://localhost:8080/",
          "height": 241
        },
        "outputId": "25c8b293-e6ca-4632-a74a-cd67b5f46ac5"
      },
      "source": [
        "Norm_train_data.head(5)"
      ],
      "execution_count": 299,
      "outputs": [
        {
          "output_type": "execute_result",
          "data": {
            "text/html": [
              "<div>\n",
              "<style scoped>\n",
              "    .dataframe tbody tr th:only-of-type {\n",
              "        vertical-align: middle;\n",
              "    }\n",
              "\n",
              "    .dataframe tbody tr th {\n",
              "        vertical-align: top;\n",
              "    }\n",
              "\n",
              "    .dataframe thead th {\n",
              "        text-align: right;\n",
              "    }\n",
              "</style>\n",
              "<table border=\"1\" class=\"dataframe\">\n",
              "  <thead>\n",
              "    <tr style=\"text-align: right;\">\n",
              "      <th></th>\n",
              "      <th>ApplicantIncome</th>\n",
              "      <th>CoapplicantIncome</th>\n",
              "      <th>LoanAmount</th>\n",
              "      <th>Loan_Amount_Term</th>\n",
              "      <th>Credit_History</th>\n",
              "      <th>Gender_Male</th>\n",
              "      <th>Married_Yes</th>\n",
              "      <th>Dependents_1</th>\n",
              "      <th>Dependents_2</th>\n",
              "      <th>Dependents_3+</th>\n",
              "      <th>Education_Not Graduate</th>\n",
              "      <th>Self_Employed_Yes</th>\n",
              "      <th>Property_Area_Semiurban</th>\n",
              "      <th>Property_Area_Urban</th>\n",
              "    </tr>\n",
              "  </thead>\n",
              "  <tbody>\n",
              "    <tr>\n",
              "      <th>0</th>\n",
              "      <td>0.070489</td>\n",
              "      <td>0.000000</td>\n",
              "      <td>0.172214</td>\n",
              "      <td>0.74359</td>\n",
              "      <td>1.0</td>\n",
              "      <td>1</td>\n",
              "      <td>0</td>\n",
              "      <td>0</td>\n",
              "      <td>0</td>\n",
              "      <td>0</td>\n",
              "      <td>0</td>\n",
              "      <td>0</td>\n",
              "      <td>0</td>\n",
              "      <td>1</td>\n",
              "    </tr>\n",
              "    <tr>\n",
              "      <th>1</th>\n",
              "      <td>0.054830</td>\n",
              "      <td>0.036192</td>\n",
              "      <td>0.172214</td>\n",
              "      <td>0.74359</td>\n",
              "      <td>1.0</td>\n",
              "      <td>1</td>\n",
              "      <td>1</td>\n",
              "      <td>1</td>\n",
              "      <td>0</td>\n",
              "      <td>0</td>\n",
              "      <td>0</td>\n",
              "      <td>0</td>\n",
              "      <td>0</td>\n",
              "      <td>0</td>\n",
              "    </tr>\n",
              "    <tr>\n",
              "      <th>2</th>\n",
              "      <td>0.035250</td>\n",
              "      <td>0.000000</td>\n",
              "      <td>0.082489</td>\n",
              "      <td>0.74359</td>\n",
              "      <td>1.0</td>\n",
              "      <td>1</td>\n",
              "      <td>1</td>\n",
              "      <td>0</td>\n",
              "      <td>0</td>\n",
              "      <td>0</td>\n",
              "      <td>0</td>\n",
              "      <td>1</td>\n",
              "      <td>0</td>\n",
              "      <td>1</td>\n",
              "    </tr>\n",
              "    <tr>\n",
              "      <th>3</th>\n",
              "      <td>0.030093</td>\n",
              "      <td>0.056592</td>\n",
              "      <td>0.160637</td>\n",
              "      <td>0.74359</td>\n",
              "      <td>1.0</td>\n",
              "      <td>1</td>\n",
              "      <td>1</td>\n",
              "      <td>0</td>\n",
              "      <td>0</td>\n",
              "      <td>0</td>\n",
              "      <td>1</td>\n",
              "      <td>0</td>\n",
              "      <td>0</td>\n",
              "      <td>1</td>\n",
              "    </tr>\n",
              "    <tr>\n",
              "      <th>4</th>\n",
              "      <td>0.072356</td>\n",
              "      <td>0.000000</td>\n",
              "      <td>0.191027</td>\n",
              "      <td>0.74359</td>\n",
              "      <td>1.0</td>\n",
              "      <td>1</td>\n",
              "      <td>0</td>\n",
              "      <td>0</td>\n",
              "      <td>0</td>\n",
              "      <td>0</td>\n",
              "      <td>0</td>\n",
              "      <td>0</td>\n",
              "      <td>0</td>\n",
              "      <td>1</td>\n",
              "    </tr>\n",
              "  </tbody>\n",
              "</table>\n",
              "</div>"
            ],
            "text/plain": [
              "   ApplicantIncome  ...  Property_Area_Urban\n",
              "0         0.070489  ...                    1\n",
              "1         0.054830  ...                    0\n",
              "2         0.035250  ...                    1\n",
              "3         0.030093  ...                    1\n",
              "4         0.072356  ...                    1\n",
              "\n",
              "[5 rows x 14 columns]"
            ]
          },
          "metadata": {
            "tags": []
          },
          "execution_count": 299
        }
      ]
    },
    {
      "cell_type": "code",
      "metadata": {
        "id": "Dp0mytTRnn5k",
        "colab_type": "code",
        "colab": {
          "base_uri": "https://localhost:8080/",
          "height": 148
        },
        "outputId": "2b7b8503-7be8-416a-ab9b-8c4d735263d6"
      },
      "source": [
        "Norm_test_data.head(2)"
      ],
      "execution_count": 300,
      "outputs": [
        {
          "output_type": "execute_result",
          "data": {
            "text/html": [
              "<div>\n",
              "<style scoped>\n",
              "    .dataframe tbody tr th:only-of-type {\n",
              "        vertical-align: middle;\n",
              "    }\n",
              "\n",
              "    .dataframe tbody tr th {\n",
              "        vertical-align: top;\n",
              "    }\n",
              "\n",
              "    .dataframe thead th {\n",
              "        text-align: right;\n",
              "    }\n",
              "</style>\n",
              "<table border=\"1\" class=\"dataframe\">\n",
              "  <thead>\n",
              "    <tr style=\"text-align: right;\">\n",
              "      <th></th>\n",
              "      <th>ApplicantIncome</th>\n",
              "      <th>CoapplicantIncome</th>\n",
              "      <th>LoanAmount</th>\n",
              "      <th>Loan_Amount_Term</th>\n",
              "      <th>Credit_History</th>\n",
              "      <th>Gender_Male</th>\n",
              "      <th>Married_Yes</th>\n",
              "      <th>Dependents_1</th>\n",
              "      <th>Dependents_2</th>\n",
              "      <th>Dependents_3+</th>\n",
              "      <th>Education_Not Graduate</th>\n",
              "      <th>Self_Employed_Yes</th>\n",
              "      <th>Property_Area_Semiurban</th>\n",
              "      <th>Property_Area_Urban</th>\n",
              "    </tr>\n",
              "  </thead>\n",
              "  <tbody>\n",
              "    <tr>\n",
              "      <th>0</th>\n",
              "      <td>0.078865</td>\n",
              "      <td>0.0000</td>\n",
              "      <td>0.157088</td>\n",
              "      <td>0.746835</td>\n",
              "      <td>1.0</td>\n",
              "      <td>1</td>\n",
              "      <td>1</td>\n",
              "      <td>0</td>\n",
              "      <td>0</td>\n",
              "      <td>0</td>\n",
              "      <td>0</td>\n",
              "      <td>0</td>\n",
              "      <td>0</td>\n",
              "      <td>1</td>\n",
              "    </tr>\n",
              "    <tr>\n",
              "      <th>1</th>\n",
              "      <td>0.042411</td>\n",
              "      <td>0.0625</td>\n",
              "      <td>0.187739</td>\n",
              "      <td>0.746835</td>\n",
              "      <td>1.0</td>\n",
              "      <td>1</td>\n",
              "      <td>1</td>\n",
              "      <td>1</td>\n",
              "      <td>0</td>\n",
              "      <td>0</td>\n",
              "      <td>0</td>\n",
              "      <td>0</td>\n",
              "      <td>0</td>\n",
              "      <td>1</td>\n",
              "    </tr>\n",
              "  </tbody>\n",
              "</table>\n",
              "</div>"
            ],
            "text/plain": [
              "   ApplicantIncome  ...  Property_Area_Urban\n",
              "0         0.078865  ...                    1\n",
              "1         0.042411  ...                    1\n",
              "\n",
              "[2 rows x 14 columns]"
            ]
          },
          "metadata": {
            "tags": []
          },
          "execution_count": 300
        }
      ]
    },
    {
      "cell_type": "code",
      "metadata": {
        "id": "2wPNkOY8tY6D",
        "colab_type": "code",
        "colab": {
          "base_uri": "https://localhost:8080/",
          "height": 34
        },
        "outputId": "4cd435bd-62c7-4920-99b7-f8cf3f562777"
      },
      "source": [
        "Norm_train_data.shape"
      ],
      "execution_count": 301,
      "outputs": [
        {
          "output_type": "execute_result",
          "data": {
            "text/plain": [
              "(614, 14)"
            ]
          },
          "metadata": {
            "tags": []
          },
          "execution_count": 301
        }
      ]
    },
    {
      "cell_type": "markdown",
      "metadata": {
        "id": "V1chHB6qL4QI",
        "colab_type": "text"
      },
      "source": [
        "## EDA and Outliers "
      ]
    },
    {
      "cell_type": "code",
      "metadata": {
        "id": "IwPdkfcCL3Me",
        "colab_type": "code",
        "colab": {}
      },
      "source": [
        "after_eda_train_data = Norm_train_data\n",
        "after_eda_test_data = Norm_test_data"
      ],
      "execution_count": 302,
      "outputs": []
    },
    {
      "cell_type": "code",
      "metadata": {
        "id": "5PSOSyQ2MHLK",
        "colab_type": "code",
        "colab": {
          "base_uri": "https://localhost:8080/",
          "height": 148
        },
        "outputId": "a579fdde-4367-436d-9eb9-6d035517a6fa"
      },
      "source": [
        "after_eda_train_data.head(2)"
      ],
      "execution_count": 303,
      "outputs": [
        {
          "output_type": "execute_result",
          "data": {
            "text/html": [
              "<div>\n",
              "<style scoped>\n",
              "    .dataframe tbody tr th:only-of-type {\n",
              "        vertical-align: middle;\n",
              "    }\n",
              "\n",
              "    .dataframe tbody tr th {\n",
              "        vertical-align: top;\n",
              "    }\n",
              "\n",
              "    .dataframe thead th {\n",
              "        text-align: right;\n",
              "    }\n",
              "</style>\n",
              "<table border=\"1\" class=\"dataframe\">\n",
              "  <thead>\n",
              "    <tr style=\"text-align: right;\">\n",
              "      <th></th>\n",
              "      <th>ApplicantIncome</th>\n",
              "      <th>CoapplicantIncome</th>\n",
              "      <th>LoanAmount</th>\n",
              "      <th>Loan_Amount_Term</th>\n",
              "      <th>Credit_History</th>\n",
              "      <th>Gender_Male</th>\n",
              "      <th>Married_Yes</th>\n",
              "      <th>Dependents_1</th>\n",
              "      <th>Dependents_2</th>\n",
              "      <th>Dependents_3+</th>\n",
              "      <th>Education_Not Graduate</th>\n",
              "      <th>Self_Employed_Yes</th>\n",
              "      <th>Property_Area_Semiurban</th>\n",
              "      <th>Property_Area_Urban</th>\n",
              "    </tr>\n",
              "  </thead>\n",
              "  <tbody>\n",
              "    <tr>\n",
              "      <th>0</th>\n",
              "      <td>0.070489</td>\n",
              "      <td>0.000000</td>\n",
              "      <td>0.172214</td>\n",
              "      <td>0.74359</td>\n",
              "      <td>1.0</td>\n",
              "      <td>1</td>\n",
              "      <td>0</td>\n",
              "      <td>0</td>\n",
              "      <td>0</td>\n",
              "      <td>0</td>\n",
              "      <td>0</td>\n",
              "      <td>0</td>\n",
              "      <td>0</td>\n",
              "      <td>1</td>\n",
              "    </tr>\n",
              "    <tr>\n",
              "      <th>1</th>\n",
              "      <td>0.054830</td>\n",
              "      <td>0.036192</td>\n",
              "      <td>0.172214</td>\n",
              "      <td>0.74359</td>\n",
              "      <td>1.0</td>\n",
              "      <td>1</td>\n",
              "      <td>1</td>\n",
              "      <td>1</td>\n",
              "      <td>0</td>\n",
              "      <td>0</td>\n",
              "      <td>0</td>\n",
              "      <td>0</td>\n",
              "      <td>0</td>\n",
              "      <td>0</td>\n",
              "    </tr>\n",
              "  </tbody>\n",
              "</table>\n",
              "</div>"
            ],
            "text/plain": [
              "   ApplicantIncome  ...  Property_Area_Urban\n",
              "0         0.070489  ...                    1\n",
              "1         0.054830  ...                    0\n",
              "\n",
              "[2 rows x 14 columns]"
            ]
          },
          "metadata": {
            "tags": []
          },
          "execution_count": 303
        }
      ]
    },
    {
      "cell_type": "code",
      "metadata": {
        "id": "AzVD-QVkt2DK",
        "colab_type": "code",
        "colab": {
          "base_uri": "https://localhost:8080/",
          "height": 34
        },
        "outputId": "35fd15a3-9067-45dd-d5fd-6bbfd6819537"
      },
      "source": [
        "after_eda_train_data.shape"
      ],
      "execution_count": 304,
      "outputs": [
        {
          "output_type": "execute_result",
          "data": {
            "text/plain": [
              "(614, 14)"
            ]
          },
          "metadata": {
            "tags": []
          },
          "execution_count": 304
        }
      ]
    },
    {
      "cell_type": "markdown",
      "metadata": {
        "id": "tY1inkv7dd03",
        "colab_type": "text"
      },
      "source": [
        "ApplicantIncome"
      ]
    },
    {
      "cell_type": "code",
      "metadata": {
        "id": "-x_N97GJU21J",
        "colab_type": "code",
        "colab": {
          "base_uri": "https://localhost:8080/",
          "height": 281
        },
        "outputId": "3201c368-f0aa-494f-d2c5-12578b8f0dc0"
      },
      "source": [
        "plt.title('box plot')\n",
        "after_eda_train_data.boxplot(column='ApplicantIncome')\n",
        "plt.show()"
      ],
      "execution_count": 305,
      "outputs": [
        {
          "output_type": "display_data",
          "data": {
            "image/png": "[encoded data removed]",
            "text/plain": [
              "<Figure size 432x288 with 1 Axes>"
            ]
          },
          "metadata": {
            "tags": [],
            "needs_background": "light"
          }
        }
      ]
    },
    {
      "cell_type": "code",
      "metadata": {
        "id": "evfP2RwJWUCy",
        "colab_type": "code",
        "colab": {}
      },
      "source": [
        "IQR = (np.percentile(after_eda_train_data['ApplicantIncome'], 75)) - (np.percentile(after_eda_train_data['ApplicantIncome'], 25))\n",
        "min = ((np.percentile(after_eda_train_data['ApplicantIncome'], 25)) - 1.5 * IQR)\n",
        "max = ((np.percentile(after_eda_train_data['ApplicantIncome'], 75)) + 1.5 * IQR)\n",
        "  \n",
        "for j in range(len(after_eda_train_data['ApplicantIncome'])):\n",
        "  if (after_eda_train_data['ApplicantIncome'][j]>=max):\n",
        "    after_eda_train_data['ApplicantIncome'][j]=max\n",
        "  elif (after_eda_train_data['ApplicantIncome'][j]<=min):\n",
        "    after_eda_train_data['ApplicantIncome'][j]=min\n"
      ],
      "execution_count": 306,
      "outputs": []
    },
    {
      "cell_type": "code",
      "metadata": {
        "id": "o2zmg2XyXjgH",
        "colab_type": "code",
        "colab": {
          "base_uri": "https://localhost:8080/",
          "height": 281
        },
        "outputId": "b154aa37-b10c-4767-8e81-91bed6fbc69e"
      },
      "source": [
        "plt.title('box plot')\n",
        "after_eda_train_data.boxplot(column='ApplicantIncome')\n",
        "plt.show()"
      ],
      "execution_count": 307,
      "outputs": [
        {
          "output_type": "display_data",
          "data": {
            "image/png": "[encoded data removed]",
            "text/plain": [
              "<Figure size 432x288 with 1 Axes>"
            ]
          },
          "metadata": {
            "tags": [],
            "needs_background": "light"
          }
        }
      ]
    },
    {
      "cell_type": "markdown",
      "metadata": {
        "id": "3jW-DPbgdihc",
        "colab_type": "text"
      },
      "source": [
        "LoanAmount"
      ]
    },
    {
      "cell_type": "code",
      "metadata": {
        "id": "PMN8JcI4ZEz6",
        "colab_type": "code",
        "colab": {
          "base_uri": "https://localhost:8080/",
          "height": 281
        },
        "outputId": "bd6981f6-cb3d-41a1-81c7-e437f6e7734c"
      },
      "source": [
        "plt.title('box plot')\n",
        "after_eda_train_data.boxplot(column='LoanAmount')\n",
        "plt.show()"
      ],
      "execution_count": 308,
      "outputs": [
        {
          "output_type": "display_data",
          "data": {
            "image/png": "[encoded data removed]",
            "text/plain": [
              "<Figure size 432x288 with 1 Axes>"
            ]
          },
          "metadata": {
            "tags": [],
            "needs_background": "light"
          }
        }
      ]
    },
    {
      "cell_type": "code",
      "metadata": {
        "id": "9W-QRscDcv6z",
        "colab_type": "code",
        "colab": {}
      },
      "source": [
        "IQR = (np.percentile(after_eda_train_data['LoanAmount'], 75)) - (np.percentile(after_eda_train_data['LoanAmount'], 25))\n",
        "min = ((np.percentile(after_eda_train_data['LoanAmount'], 25)) - 1.5 * IQR)\n",
        "max = ((np.percentile(after_eda_train_data['LoanAmount'], 75)) + 1.5 * IQR)\n",
        "  \n",
        "for j in range(len(after_eda_train_data['LoanAmount'])):\n",
        "  if (after_eda_train_data['LoanAmount'][j]>=max):\n",
        "    after_eda_train_data['LoanAmount'][j]=max\n",
        "  elif (after_eda_train_data['LoanAmount'][j]<=min):\n",
        "    after_eda_train_data['LoanAmount'][j]=min\n"
      ],
      "execution_count": 309,
      "outputs": []
    },
    {
      "cell_type": "code",
      "metadata": {
        "id": "XtzmtT08cxo_",
        "colab_type": "code",
        "colab": {
          "base_uri": "https://localhost:8080/",
          "height": 281
        },
        "outputId": "5cf50be0-b842-47b1-be40-4645c031d8f7"
      },
      "source": [
        "plt.title('box plot')\n",
        "after_eda_train_data.boxplot(column='LoanAmount')\n",
        "plt.show()"
      ],
      "execution_count": 310,
      "outputs": [
        {
          "output_type": "display_data",
          "data": {
            "image/png": "[encoded data removed]",
            "text/plain": [
              "<Figure size 432x288 with 1 Axes>"
            ]
          },
          "metadata": {
            "tags": [],
            "needs_background": "light"
          }
        }
      ]
    },
    {
      "cell_type": "markdown",
      "metadata": {
        "id": "tmD04OE7dmMl",
        "colab_type": "text"
      },
      "source": [
        "CoapplicantIncome"
      ]
    },
    {
      "cell_type": "code",
      "metadata": {
        "id": "uPZ8ij-_ZMAZ",
        "colab_type": "code",
        "colab": {
          "base_uri": "https://localhost:8080/",
          "height": 281
        },
        "outputId": "da686af2-1c01-4723-8a34-fcc0dd3002d6"
      },
      "source": [
        "plt.title('box plot')\n",
        "after_eda_train_data.boxplot(column='CoapplicantIncome')\n",
        "plt.show()"
      ],
      "execution_count": 311,
      "outputs": [
        {
          "output_type": "display_data",
          "data": {
            "image/png": "[encoded data removed]",
            "text/plain": [
              "<Figure size 432x288 with 1 Axes>"
            ]
          },
          "metadata": {
            "tags": [],
            "needs_background": "light"
          }
        }
      ]
    },
    {
      "cell_type": "code",
      "metadata": {
        "id": "UhjZ89a0dArd",
        "colab_type": "code",
        "colab": {}
      },
      "source": [
        "IQR = (np.percentile(after_eda_train_data['CoapplicantIncome'], 75)) - (np.percentile(after_eda_train_data['CoapplicantIncome'], 25))\n",
        "min = ((np.percentile(after_eda_train_data['CoapplicantIncome'], 25)) - 1.5 * IQR)\n",
        "max = ((np.percentile(after_eda_train_data['CoapplicantIncome'], 75)) + 1.5 * IQR)\n",
        "  \n",
        "for j in range(len(after_eda_train_data['CoapplicantIncome'])):\n",
        "  if (after_eda_train_data['CoapplicantIncome'][j]>=max):\n",
        "    after_eda_train_data['CoapplicantIncome'][j]=max\n",
        "  elif (after_eda_train_data['CoapplicantIncome'][j]<=min):\n",
        "    after_eda_train_data['CoapplicantIncome'][j]=min\n"
      ],
      "execution_count": 312,
      "outputs": []
    },
    {
      "cell_type": "code",
      "metadata": {
        "id": "xK_xkHgEdAUt",
        "colab_type": "code",
        "colab": {
          "base_uri": "https://localhost:8080/",
          "height": 281
        },
        "outputId": "3faf53a6-8d51-404e-df09-9b97067cd441"
      },
      "source": [
        "plt.title('box plot')\n",
        "after_eda_train_data.boxplot(column='CoapplicantIncome')\n",
        "plt.show()"
      ],
      "execution_count": 313,
      "outputs": [
        {
          "output_type": "display_data",
          "data": {
            "image/png": "[encoded data removed]",
            "text/plain": [
              "<Figure size 432x288 with 1 Axes>"
            ]
          },
          "metadata": {
            "tags": [],
            "needs_background": "light"
          }
        }
      ]
    },
    {
      "cell_type": "code",
      "metadata": {
        "id": "RTG_Toh4rlTh",
        "colab_type": "code",
        "colab": {
          "base_uri": "https://localhost:8080/",
          "height": 148
        },
        "outputId": "96f83f55-38f0-43b4-9f65-c4d1d370fce6"
      },
      "source": [
        "after_eda_train_data.head(2)"
      ],
      "execution_count": 314,
      "outputs": [
        {
          "output_type": "execute_result",
          "data": {
            "text/html": [
              "<div>\n",
              "<style scoped>\n",
              "    .dataframe tbody tr th:only-of-type {\n",
              "        vertical-align: middle;\n",
              "    }\n",
              "\n",
              "    .dataframe tbody tr th {\n",
              "        vertical-align: top;\n",
              "    }\n",
              "\n",
              "    .dataframe thead th {\n",
              "        text-align: right;\n",
              "    }\n",
              "</style>\n",
              "<table border=\"1\" class=\"dataframe\">\n",
              "  <thead>\n",
              "    <tr style=\"text-align: right;\">\n",
              "      <th></th>\n",
              "      <th>ApplicantIncome</th>\n",
              "      <th>CoapplicantIncome</th>\n",
              "      <th>LoanAmount</th>\n",
              "      <th>Loan_Amount_Term</th>\n",
              "      <th>Credit_History</th>\n",
              "      <th>Gender_Male</th>\n",
              "      <th>Married_Yes</th>\n",
              "      <th>Dependents_1</th>\n",
              "      <th>Dependents_2</th>\n",
              "      <th>Dependents_3+</th>\n",
              "      <th>Education_Not Graduate</th>\n",
              "      <th>Self_Employed_Yes</th>\n",
              "      <th>Property_Area_Semiurban</th>\n",
              "      <th>Property_Area_Urban</th>\n",
              "    </tr>\n",
              "  </thead>\n",
              "  <tbody>\n",
              "    <tr>\n",
              "      <th>0</th>\n",
              "      <td>0.070489</td>\n",
              "      <td>0.000000</td>\n",
              "      <td>0.172214</td>\n",
              "      <td>0.74359</td>\n",
              "      <td>1.0</td>\n",
              "      <td>1</td>\n",
              "      <td>0</td>\n",
              "      <td>0</td>\n",
              "      <td>0</td>\n",
              "      <td>0</td>\n",
              "      <td>0</td>\n",
              "      <td>0</td>\n",
              "      <td>0</td>\n",
              "      <td>1</td>\n",
              "    </tr>\n",
              "    <tr>\n",
              "      <th>1</th>\n",
              "      <td>0.054830</td>\n",
              "      <td>0.036192</td>\n",
              "      <td>0.172214</td>\n",
              "      <td>0.74359</td>\n",
              "      <td>1.0</td>\n",
              "      <td>1</td>\n",
              "      <td>1</td>\n",
              "      <td>1</td>\n",
              "      <td>0</td>\n",
              "      <td>0</td>\n",
              "      <td>0</td>\n",
              "      <td>0</td>\n",
              "      <td>0</td>\n",
              "      <td>0</td>\n",
              "    </tr>\n",
              "  </tbody>\n",
              "</table>\n",
              "</div>"
            ],
            "text/plain": [
              "   ApplicantIncome  ...  Property_Area_Urban\n",
              "0         0.070489  ...                    1\n",
              "1         0.054830  ...                    0\n",
              "\n",
              "[2 rows x 14 columns]"
            ]
          },
          "metadata": {
            "tags": []
          },
          "execution_count": 314
        }
      ]
    },
    {
      "cell_type": "code",
      "metadata": {
        "id": "xqGwoV0ysPWa",
        "colab_type": "code",
        "colab": {
          "base_uri": "https://localhost:8080/",
          "height": 34
        },
        "outputId": "1d02a956-76e6-4961-ae55-12da63d05ba0"
      },
      "source": [
        "after_eda_train_data.shape"
      ],
      "execution_count": 315,
      "outputs": [
        {
          "output_type": "execute_result",
          "data": {
            "text/plain": [
              "(614, 14)"
            ]
          },
          "metadata": {
            "tags": []
          },
          "execution_count": 315
        }
      ]
    },
    {
      "cell_type": "markdown",
      "metadata": {
        "id": "d-DCXFCuqNqA",
        "colab_type": "text"
      },
      "source": [
        "# Feature Engineering "
      ]
    },
    {
      "cell_type": "markdown",
      "metadata": {
        "id": "CkIQnHBksDo1",
        "colab_type": "text"
      },
      "source": [
        "### correlation Matrix"
      ]
    },
    {
      "cell_type": "code",
      "metadata": {
        "id": "ZpDGZ0hOqLwi",
        "colab_type": "code",
        "colab": {
          "base_uri": "https://localhost:8080/",
          "height": 520
        },
        "outputId": "aa5a6fec-cf68-4553-f217-a23332a5ecfe"
      },
      "source": [
        "after_eda_train_data.corr()"
      ],
      "execution_count": 316,
      "outputs": [
        {
          "output_type": "execute_result",
          "data": {
            "text/html": [
              "<div>\n",
              "<style scoped>\n",
              "    .dataframe tbody tr th:only-of-type {\n",
              "        vertical-align: middle;\n",
              "    }\n",
              "\n",
              "    .dataframe tbody tr th {\n",
              "        vertical-align: top;\n",
              "    }\n",
              "\n",
              "    .dataframe thead th {\n",
              "        text-align: right;\n",
              "    }\n",
              "</style>\n",
              "<table border=\"1\" class=\"dataframe\">\n",
              "  <thead>\n",
              "    <tr style=\"text-align: right;\">\n",
              "      <th></th>\n",
              "      <th>ApplicantIncome</th>\n",
              "      <th>CoapplicantIncome</th>\n",
              "      <th>LoanAmount</th>\n",
              "      <th>Loan_Amount_Term</th>\n",
              "      <th>Credit_History</th>\n",
              "      <th>Gender_Male</th>\n",
              "      <th>Married_Yes</th>\n",
              "      <th>Dependents_1</th>\n",
              "      <th>Dependents_2</th>\n",
              "      <th>Dependents_3+</th>\n",
              "      <th>Education_Not Graduate</th>\n",
              "      <th>Self_Employed_Yes</th>\n",
              "      <th>Property_Area_Semiurban</th>\n",
              "      <th>Property_Area_Urban</th>\n",
              "    </tr>\n",
              "  </thead>\n",
              "  <tbody>\n",
              "    <tr>\n",
              "      <th>ApplicantIncome</th>\n",
              "      <td>1.000000</td>\n",
              "      <td>-0.228956</td>\n",
              "      <td>0.557953</td>\n",
              "      <td>-0.023926</td>\n",
              "      <td>0.035345</td>\n",
              "      <td>0.065040</td>\n",
              "      <td>0.022480</td>\n",
              "      <td>0.082446</td>\n",
              "      <td>0.006335</td>\n",
              "      <td>0.093201</td>\n",
              "      <td>-0.203087</td>\n",
              "      <td>0.237122</td>\n",
              "      <td>-0.016858</td>\n",
              "      <td>-0.015294</td>\n",
              "    </tr>\n",
              "    <tr>\n",
              "      <th>CoapplicantIncome</th>\n",
              "      <td>-0.228956</td>\n",
              "      <td>1.000000</td>\n",
              "      <td>0.265021</td>\n",
              "      <td>-0.029295</td>\n",
              "      <td>-0.001710</td>\n",
              "      <td>0.192438</td>\n",
              "      <td>0.221217</td>\n",
              "      <td>-0.020011</td>\n",
              "      <td>0.018537</td>\n",
              "      <td>-0.045998</td>\n",
              "      <td>-0.049895</td>\n",
              "      <td>-0.032784</td>\n",
              "      <td>-0.018945</td>\n",
              "      <td>-0.052557</td>\n",
              "    </tr>\n",
              "    <tr>\n",
              "      <th>LoanAmount</th>\n",
              "      <td>0.557953</td>\n",
              "      <td>0.265021</td>\n",
              "      <td>1.000000</td>\n",
              "      <td>0.063612</td>\n",
              "      <td>0.004320</td>\n",
              "      <td>0.143426</td>\n",
              "      <td>0.177417</td>\n",
              "      <td>0.064201</td>\n",
              "      <td>0.058138</td>\n",
              "      <td>0.119530</td>\n",
              "      <td>-0.176194</td>\n",
              "      <td>0.114297</td>\n",
              "      <td>0.007546</td>\n",
              "      <td>-0.066726</td>\n",
              "    </tr>\n",
              "    <tr>\n",
              "      <th>Loan_Amount_Term</th>\n",
              "      <td>-0.023926</td>\n",
              "      <td>-0.029295</td>\n",
              "      <td>0.063612</td>\n",
              "      <td>1.000000</td>\n",
              "      <td>-0.004705</td>\n",
              "      <td>-0.074030</td>\n",
              "      <td>-0.100912</td>\n",
              "      <td>-0.088492</td>\n",
              "      <td>-0.010609</td>\n",
              "      <td>-0.077273</td>\n",
              "      <td>-0.073928</td>\n",
              "      <td>-0.033739</td>\n",
              "      <td>0.059141</td>\n",
              "      <td>-0.094279</td>\n",
              "    </tr>\n",
              "    <tr>\n",
              "      <th>Credit_History</th>\n",
              "      <td>0.035345</td>\n",
              "      <td>-0.001710</td>\n",
              "      <td>0.004320</td>\n",
              "      <td>-0.004705</td>\n",
              "      <td>1.000000</td>\n",
              "      <td>0.009170</td>\n",
              "      <td>0.010938</td>\n",
              "      <td>0.009757</td>\n",
              "      <td>0.007987</td>\n",
              "      <td>-0.060473</td>\n",
              "      <td>-0.073658</td>\n",
              "      <td>-0.001550</td>\n",
              "      <td>0.035976</td>\n",
              "      <td>-0.016934</td>\n",
              "    </tr>\n",
              "    <tr>\n",
              "      <th>Gender_Male</th>\n",
              "      <td>0.065040</td>\n",
              "      <td>0.192438</td>\n",
              "      <td>0.143426</td>\n",
              "      <td>-0.074030</td>\n",
              "      <td>0.009170</td>\n",
              "      <td>1.000000</td>\n",
              "      <td>0.364569</td>\n",
              "      <td>-0.004466</td>\n",
              "      <td>0.129953</td>\n",
              "      <td>0.096319</td>\n",
              "      <td>0.045364</td>\n",
              "      <td>-0.000525</td>\n",
              "      <td>-0.108623</td>\n",
              "      <td>0.034530</td>\n",
              "    </tr>\n",
              "    <tr>\n",
              "      <th>Married_Yes</th>\n",
              "      <td>0.022480</td>\n",
              "      <td>0.221217</td>\n",
              "      <td>0.177417</td>\n",
              "      <td>-0.100912</td>\n",
              "      <td>0.010938</td>\n",
              "      <td>0.364569</td>\n",
              "      <td>1.000000</td>\n",
              "      <td>0.113853</td>\n",
              "      <td>0.249547</td>\n",
              "      <td>0.132566</td>\n",
              "      <td>0.012304</td>\n",
              "      <td>0.004489</td>\n",
              "      <td>0.005845</td>\n",
              "      <td>0.000546</td>\n",
              "    </tr>\n",
              "    <tr>\n",
              "      <th>Dependents_1</th>\n",
              "      <td>0.082446</td>\n",
              "      <td>-0.020011</td>\n",
              "      <td>0.064201</td>\n",
              "      <td>-0.088492</td>\n",
              "      <td>0.009757</td>\n",
              "      <td>-0.004466</td>\n",
              "      <td>0.113853</td>\n",
              "      <td>1.000000</td>\n",
              "      <td>-0.198046</td>\n",
              "      <td>-0.134337</td>\n",
              "      <td>-0.013355</td>\n",
              "      <td>0.082044</td>\n",
              "      <td>0.011661</td>\n",
              "      <td>0.069320</td>\n",
              "    </tr>\n",
              "    <tr>\n",
              "      <th>Dependents_2</th>\n",
              "      <td>0.006335</td>\n",
              "      <td>0.018537</td>\n",
              "      <td>0.058138</td>\n",
              "      <td>-0.010609</td>\n",
              "      <td>0.007987</td>\n",
              "      <td>0.129953</td>\n",
              "      <td>0.249547</td>\n",
              "      <td>-0.198046</td>\n",
              "      <td>1.000000</td>\n",
              "      <td>-0.133547</td>\n",
              "      <td>0.020822</td>\n",
              "      <td>0.032434</td>\n",
              "      <td>-0.012017</td>\n",
              "      <td>0.016569</td>\n",
              "    </tr>\n",
              "    <tr>\n",
              "      <th>Dependents_3+</th>\n",
              "      <td>0.093201</td>\n",
              "      <td>-0.045998</td>\n",
              "      <td>0.119530</td>\n",
              "      <td>-0.077273</td>\n",
              "      <td>-0.060473</td>\n",
              "      <td>0.096319</td>\n",
              "      <td>0.132566</td>\n",
              "      <td>-0.134337</td>\n",
              "      <td>-0.133547</td>\n",
              "      <td>1.000000</td>\n",
              "      <td>0.055288</td>\n",
              "      <td>0.003278</td>\n",
              "      <td>0.007863</td>\n",
              "      <td>-0.047460</td>\n",
              "    </tr>\n",
              "    <tr>\n",
              "      <th>Education_Not Graduate</th>\n",
              "      <td>-0.203087</td>\n",
              "      <td>-0.049895</td>\n",
              "      <td>-0.176194</td>\n",
              "      <td>-0.073928</td>\n",
              "      <td>-0.073658</td>\n",
              "      <td>0.045364</td>\n",
              "      <td>0.012304</td>\n",
              "      <td>-0.013355</td>\n",
              "      <td>0.020822</td>\n",
              "      <td>0.055288</td>\n",
              "      <td>1.000000</td>\n",
              "      <td>-0.010383</td>\n",
              "      <td>-0.039410</td>\n",
              "      <td>-0.034279</td>\n",
              "    </tr>\n",
              "    <tr>\n",
              "      <th>Self_Employed_Yes</th>\n",
              "      <td>0.237122</td>\n",
              "      <td>-0.032784</td>\n",
              "      <td>0.114297</td>\n",
              "      <td>-0.033739</td>\n",
              "      <td>-0.001550</td>\n",
              "      <td>-0.000525</td>\n",
              "      <td>0.004489</td>\n",
              "      <td>0.082044</td>\n",
              "      <td>0.032434</td>\n",
              "      <td>0.003278</td>\n",
              "      <td>-0.010383</td>\n",
              "      <td>1.000000</td>\n",
              "      <td>0.008710</td>\n",
              "      <td>-0.030338</td>\n",
              "    </tr>\n",
              "    <tr>\n",
              "      <th>Property_Area_Semiurban</th>\n",
              "      <td>-0.016858</td>\n",
              "      <td>-0.018945</td>\n",
              "      <td>0.007546</td>\n",
              "      <td>0.059141</td>\n",
              "      <td>0.035976</td>\n",
              "      <td>-0.108623</td>\n",
              "      <td>0.005845</td>\n",
              "      <td>0.011661</td>\n",
              "      <td>-0.012017</td>\n",
              "      <td>0.007863</td>\n",
              "      <td>-0.039410</td>\n",
              "      <td>0.008710</td>\n",
              "      <td>1.000000</td>\n",
              "      <td>-0.547574</td>\n",
              "    </tr>\n",
              "    <tr>\n",
              "      <th>Property_Area_Urban</th>\n",
              "      <td>-0.015294</td>\n",
              "      <td>-0.052557</td>\n",
              "      <td>-0.066726</td>\n",
              "      <td>-0.094279</td>\n",
              "      <td>-0.016934</td>\n",
              "      <td>0.034530</td>\n",
              "      <td>0.000546</td>\n",
              "      <td>0.069320</td>\n",
              "      <td>0.016569</td>\n",
              "      <td>-0.047460</td>\n",
              "      <td>-0.034279</td>\n",
              "      <td>-0.030338</td>\n",
              "      <td>-0.547574</td>\n",
              "      <td>1.000000</td>\n",
              "    </tr>\n",
              "  </tbody>\n",
              "</table>\n",
              "</div>"
            ],
            "text/plain": [
              "                         ApplicantIncome  ...  Property_Area_Urban\n",
              "ApplicantIncome                 1.000000  ...            -0.015294\n",
              "CoapplicantIncome              -0.228956  ...            -0.052557\n",
              "LoanAmount                      0.557953  ...            -0.066726\n",
              "Loan_Amount_Term               -0.023926  ...            -0.094279\n",
              "Credit_History                  0.035345  ...            -0.016934\n",
              "Gender_Male                     0.065040  ...             0.034530\n",
              "Married_Yes                     0.022480  ...             0.000546\n",
              "Dependents_1                    0.082446  ...             0.069320\n",
              "Dependents_2                    0.006335  ...             0.016569\n",
              "Dependents_3+                   0.093201  ...            -0.047460\n",
              "Education_Not Graduate         -0.203087  ...            -0.034279\n",
              "Self_Employed_Yes               0.237122  ...            -0.030338\n",
              "Property_Area_Semiurban        -0.016858  ...            -0.547574\n",
              "Property_Area_Urban            -0.015294  ...             1.000000\n",
              "\n",
              "[14 rows x 14 columns]"
            ]
          },
          "metadata": {
            "tags": []
          },
          "execution_count": 316
        }
      ]
    },
    {
      "cell_type": "markdown",
      "metadata": {
        "id": "6p9cUWZsr1N3",
        "colab_type": "text"
      },
      "source": [
        "### VIF (Variance Inflation factor)"
      ]
    },
    {
      "cell_type": "code",
      "metadata": {
        "id": "4t4VDAGAvg5m",
        "colab_type": "code",
        "colab": {
          "base_uri": "https://localhost:8080/",
          "height": 272
        },
        "outputId": "afbd84ce-4cb3-486f-8e37-1595923e1a4a"
      },
      "source": [
        "from statsmodels.stats.outliers_influence import variance_inflation_factor\n",
        "vif = pd.DataFrame()\n",
        "vif[\"var\"] = after_eda_train_data.columns\n",
        "vif[\"VIF\"] = [variance_inflation_factor(after_eda_train_data.values, i) for i in range(after_eda_train_data.shape[1])]\n",
        "vif2=vif.sort_values(by=['VIF'], ascending=False)\n",
        "vif2.reset_index(inplace = True)\n",
        "print(vif2)"
      ],
      "execution_count": 317,
      "outputs": [
        {
          "output_type": "stream",
          "text": [
            "    index                      var        VIF\n",
            "0       2               LoanAmount  12.610731\n",
            "1       3         Loan_Amount_Term  11.596259\n",
            "2       0          ApplicantIncome   8.330731\n",
            "3       5              Gender_Male   6.293171\n",
            "4       4           Credit_History   6.162412\n",
            "5       6              Married_Yes   3.879556\n",
            "6       1        CoapplicantIncome   2.604927\n",
            "7      12  Property_Area_Semiurban   2.238478\n",
            "8      13      Property_Area_Urban   2.023489\n",
            "9       8             Dependents_2   1.444838\n",
            "10      7             Dependents_1   1.386158\n",
            "11     10   Education_Not Graduate   1.320038\n",
            "12      9            Dependents_3+   1.251478\n",
            "13     11        Self_Employed_Yes   1.238483\n"
          ],
          "name": "stdout"
        }
      ]
    },
    {
      "cell_type": "code",
      "metadata": {
        "id": "LjWt3pxUzZ7Q",
        "colab_type": "code",
        "colab": {}
      },
      "source": [
        "after_eda_train_data.to_csv('/content/drive/My Drive/Hackathon/final_train_df.csv')\n",
        "after_eda_test_data.to_csv('/content/drive/My Drive/Hackathon/final_test_df.csv')"
      ],
      "execution_count": 318,
      "outputs": []
    },
    {
      "cell_type": "markdown",
      "metadata": {
        "id": "EnSYjZOE2bJA",
        "colab_type": "text"
      },
      "source": [
        "\n",
        "As we have already seen in the scatter plat - EDA part, there is little correlation between LoanAmount and Loan_Amount_Term. \n",
        "Here also we can see vif for LoanAmount is higher.\n",
        "But We cannot remove LoanAmount feature because it is important for our modeling."
      ]
    },
    {
      "cell_type": "markdown",
      "metadata": {
        "id": "YkSjx5UhGok0",
        "colab_type": "text"
      },
      "source": [
        "# Model"
      ]
    },
    {
      "cell_type": "code",
      "metadata": {
        "id": "rUt-uhhcO6xO",
        "colab_type": "code",
        "colab": {}
      },
      "source": [
        "y = pd.read_csv('/content/drive/My Drive/Hackathon/train_Loan_status.csv')\n",
        "m_train_data = pd.read_csv('/content/drive/My Drive/Hackathon/final_train_df.csv')\n",
        "m_test_data = pd.read_csv('/content/drive/My Drive/Hackathon/final_test_df.csv')\n",
        "m_train_data=m_train_data.drop(['Unnamed: 0'], axis=1)\n",
        "m_test_data=m_test_data.drop(['Unnamed: 0'], axis=1)\n",
        "y=y.drop(['Unnamed: 0'], axis=1)"
      ],
      "execution_count": 319,
      "outputs": []
    },
    {
      "cell_type": "code",
      "metadata": {
        "id": "ecR6I7mUKjQ2",
        "colab_type": "code",
        "colab": {
          "base_uri": "https://localhost:8080/",
          "height": 241
        },
        "outputId": "13622b3b-a5f7-4783-a515-0cf7a640057e"
      },
      "source": [
        "m_train_data.head()"
      ],
      "execution_count": 320,
      "outputs": [
        {
          "output_type": "execute_result",
          "data": {
            "text/html": [
              "<div>\n",
              "<style scoped>\n",
              "    .dataframe tbody tr th:only-of-type {\n",
              "        vertical-align: middle;\n",
              "    }\n",
              "\n",
              "    .dataframe tbody tr th {\n",
              "        vertical-align: top;\n",
              "    }\n",
              "\n",
              "    .dataframe thead th {\n",
              "        text-align: right;\n",
              "    }\n",
              "</style>\n",
              "<table border=\"1\" class=\"dataframe\">\n",
              "  <thead>\n",
              "    <tr style=\"text-align: right;\">\n",
              "      <th></th>\n",
              "      <th>ApplicantIncome</th>\n",
              "      <th>CoapplicantIncome</th>\n",
              "      <th>LoanAmount</th>\n",
              "      <th>Loan_Amount_Term</th>\n",
              "      <th>Credit_History</th>\n",
              "      <th>Gender_Male</th>\n",
              "      <th>Married_Yes</th>\n",
              "      <th>Dependents_1</th>\n",
              "      <th>Dependents_2</th>\n",
              "      <th>Dependents_3+</th>\n",
              "      <th>Education_Not Graduate</th>\n",
              "      <th>Self_Employed_Yes</th>\n",
              "      <th>Property_Area_Semiurban</th>\n",
              "      <th>Property_Area_Urban</th>\n",
              "    </tr>\n",
              "  </thead>\n",
              "  <tbody>\n",
              "    <tr>\n",
              "      <th>0</th>\n",
              "      <td>0.070489</td>\n",
              "      <td>0.000000</td>\n",
              "      <td>0.172214</td>\n",
              "      <td>0.74359</td>\n",
              "      <td>1.0</td>\n",
              "      <td>1</td>\n",
              "      <td>0</td>\n",
              "      <td>0</td>\n",
              "      <td>0</td>\n",
              "      <td>0</td>\n",
              "      <td>0</td>\n",
              "      <td>0</td>\n",
              "      <td>0</td>\n",
              "      <td>1</td>\n",
              "    </tr>\n",
              "    <tr>\n",
              "      <th>1</th>\n",
              "      <td>0.054830</td>\n",
              "      <td>0.036192</td>\n",
              "      <td>0.172214</td>\n",
              "      <td>0.74359</td>\n",
              "      <td>1.0</td>\n",
              "      <td>1</td>\n",
              "      <td>1</td>\n",
              "      <td>1</td>\n",
              "      <td>0</td>\n",
              "      <td>0</td>\n",
              "      <td>0</td>\n",
              "      <td>0</td>\n",
              "      <td>0</td>\n",
              "      <td>0</td>\n",
              "    </tr>\n",
              "    <tr>\n",
              "      <th>2</th>\n",
              "      <td>0.035250</td>\n",
              "      <td>0.000000</td>\n",
              "      <td>0.082489</td>\n",
              "      <td>0.74359</td>\n",
              "      <td>1.0</td>\n",
              "      <td>1</td>\n",
              "      <td>1</td>\n",
              "      <td>0</td>\n",
              "      <td>0</td>\n",
              "      <td>0</td>\n",
              "      <td>0</td>\n",
              "      <td>1</td>\n",
              "      <td>0</td>\n",
              "      <td>1</td>\n",
              "    </tr>\n",
              "    <tr>\n",
              "      <th>3</th>\n",
              "      <td>0.030093</td>\n",
              "      <td>0.056592</td>\n",
              "      <td>0.160637</td>\n",
              "      <td>0.74359</td>\n",
              "      <td>1.0</td>\n",
              "      <td>1</td>\n",
              "      <td>1</td>\n",
              "      <td>0</td>\n",
              "      <td>0</td>\n",
              "      <td>0</td>\n",
              "      <td>1</td>\n",
              "      <td>0</td>\n",
              "      <td>0</td>\n",
              "      <td>1</td>\n",
              "    </tr>\n",
              "    <tr>\n",
              "      <th>4</th>\n",
              "      <td>0.072356</td>\n",
              "      <td>0.000000</td>\n",
              "      <td>0.191027</td>\n",
              "      <td>0.74359</td>\n",
              "      <td>1.0</td>\n",
              "      <td>1</td>\n",
              "      <td>0</td>\n",
              "      <td>0</td>\n",
              "      <td>0</td>\n",
              "      <td>0</td>\n",
              "      <td>0</td>\n",
              "      <td>0</td>\n",
              "      <td>0</td>\n",
              "      <td>1</td>\n",
              "    </tr>\n",
              "  </tbody>\n",
              "</table>\n",
              "</div>"
            ],
            "text/plain": [
              "   ApplicantIncome  ...  Property_Area_Urban\n",
              "0         0.070489  ...                    1\n",
              "1         0.054830  ...                    0\n",
              "2         0.035250  ...                    1\n",
              "3         0.030093  ...                    1\n",
              "4         0.072356  ...                    1\n",
              "\n",
              "[5 rows x 14 columns]"
            ]
          },
          "metadata": {
            "tags": []
          },
          "execution_count": 320
        }
      ]
    },
    {
      "cell_type": "code",
      "metadata": {
        "id": "gETpOf4xr7ez",
        "colab_type": "code",
        "colab": {
          "base_uri": "https://localhost:8080/",
          "height": 34
        },
        "outputId": "81636dcc-cd13-4b5f-b813-f837a95258fe"
      },
      "source": [
        "from sklearn.model_selection import train_test_split\n",
        "train_X, val_X, train_y, val_y = train_test_split(m_train_data, y, stratify=y, test_size=0.2, random_state=1)\n",
        "print(train_X.shape, val_X.shape, train_y.shape, val_y.shape )"
      ],
      "execution_count": 321,
      "outputs": [
        {
          "output_type": "stream",
          "text": [
            "(491, 14) (123, 14) (491, 1) (123, 1)\n"
          ],
          "name": "stdout"
        }
      ]
    },
    {
      "cell_type": "markdown",
      "metadata": {
        "id": "wlU3bC1zSd-b",
        "colab_type": "text"
      },
      "source": [
        "## CatBoost"
      ]
    },
    {
      "cell_type": "code",
      "metadata": {
        "id": "YhxKEORE357K",
        "colab_type": "code",
        "colab": {}
      },
      "source": [
        "from sklearn.model_selection import GridSearchCV\n",
        "from catboost import CatBoostClassifier"
      ],
      "execution_count": 322,
      "outputs": []
    },
    {
      "cell_type": "code",
      "metadata": {
        "id": "ixMLduPI8ged",
        "colab_type": "code",
        "colab": {
          "base_uri": "https://localhost:8080/",
          "height": 34
        },
        "outputId": "e33210c4-1137-4043-bd49-8d53c95140e7"
      },
      "source": [
        "params = {'depth': [4, 7, 10],\n",
        "          'learning_rate' : [0.001,0.01,0.1,0.2,0.3],\n",
        "         'l2_leaf_reg': [1,4,9,100],\n",
        "         'iterations': [300]}\n",
        "cb = CatBoostClassifier(loss_function='MultiClass')\n",
        "cb_model = GridSearchCV(cb, params, n_jobs=-1)\n",
        "cb_model.fit(train_X, train_y,verbose=False)\n",
        "print (cb_model.best_params_)"
      ],
      "execution_count": 324,
      "outputs": [
        {
          "output_type": "stream",
          "text": [
            "{'depth': 5, 'iterations': 350, 'l2_leaf_reg': 1, 'learning_rate': 0.02}\n"
          ],
          "name": "stdout"
        }
      ]
    },
    {
      "cell_type": "code",
      "metadata": {
        "id": "N_OnSr5M4H1E",
        "colab_type": "code",
        "colab": {
          "base_uri": "https://localhost:8080/",
          "height": 1000
        },
        "outputId": "51a97cb1-3aca-4114-82d4-c4d369ab550c"
      },
      "source": [
        "clf = CatBoostClassifier(loss_function='MultiClass', depth=5, iterations= 350, l2_leaf_reg= 1, learning_rate= 0.02)\n",
        "clf.fit(train_X,train_y)\n",
        "\n",
        "tr_pred=clf.predict(train_X)\n",
        "val_pred=clf.predict(val_X)\n",
        "print (\"Accuracy for train is for \",ms.accuracy_score(train_y,tr_pred))\n",
        "print (\"Accuracy for val is for \",ms.accuracy_score(val_y,val_pred))\n"
      ],
      "execution_count": 325,
      "outputs": [
        {
          "output_type": "stream",
          "text": [
            "0:\tlearn: 0.6858474\ttotal: 1.71ms\tremaining: 597ms\n",
            "1:\tlearn: 0.6786179\ttotal: 5.83ms\tremaining: 1.01s\n",
            "2:\tlearn: 0.6716755\ttotal: 7.37ms\tremaining: 853ms\n",
            "3:\tlearn: 0.6651524\ttotal: 8.39ms\tremaining: 726ms\n",
            "4:\tlearn: 0.6588735\ttotal: 9.82ms\tremaining: 678ms\n",
            "5:\tlearn: 0.6526646\ttotal: 11.6ms\tremaining: 664ms\n",
            "6:\tlearn: 0.6465219\ttotal: 13.1ms\tremaining: 643ms\n",
            "7:\tlearn: 0.6407981\ttotal: 14.6ms\tremaining: 622ms\n",
            "8:\tlearn: 0.6349144\ttotal: 16.2ms\tremaining: 612ms\n",
            "9:\tlearn: 0.6294031\ttotal: 17.5ms\tremaining: 596ms\n",
            "10:\tlearn: 0.6240144\ttotal: 19ms\tremaining: 585ms\n",
            "11:\tlearn: 0.6190849\ttotal: 20.5ms\tremaining: 578ms\n",
            "12:\tlearn: 0.6139148\ttotal: 22ms\tremaining: 570ms\n",
            "13:\tlearn: 0.6093260\ttotal: 23.6ms\tremaining: 566ms\n",
            "14:\tlearn: 0.6047310\ttotal: 25ms\tremaining: 559ms\n",
            "15:\tlearn: 0.6000648\ttotal: 26.6ms\tremaining: 554ms\n",
            "16:\tlearn: 0.5955482\ttotal: 28.1ms\tremaining: 550ms\n",
            "17:\tlearn: 0.5915021\ttotal: 29.5ms\tremaining: 544ms\n",
            "18:\tlearn: 0.5874262\ttotal: 31ms\tremaining: 540ms\n",
            "19:\tlearn: 0.5834441\ttotal: 32.5ms\tremaining: 536ms\n",
            "20:\tlearn: 0.5795221\ttotal: 35ms\tremaining: 548ms\n",
            "21:\tlearn: 0.5754705\ttotal: 36.9ms\tremaining: 551ms\n",
            "22:\tlearn: 0.5717407\ttotal: 38.7ms\tremaining: 550ms\n",
            "23:\tlearn: 0.5680851\ttotal: 40.1ms\tremaining: 544ms\n",
            "24:\tlearn: 0.5644031\ttotal: 41.6ms\tremaining: 541ms\n",
            "25:\tlearn: 0.5609832\ttotal: 43.2ms\tremaining: 538ms\n",
            "26:\tlearn: 0.5576180\ttotal: 44.6ms\tremaining: 534ms\n",
            "27:\tlearn: 0.5546124\ttotal: 46.1ms\tremaining: 530ms\n",
            "28:\tlearn: 0.5515016\ttotal: 48ms\tremaining: 531ms\n",
            "29:\tlearn: 0.5481037\ttotal: 49.6ms\tremaining: 529ms\n",
            "30:\tlearn: 0.5451498\ttotal: 51ms\tremaining: 525ms\n",
            "31:\tlearn: 0.5421103\ttotal: 52.5ms\tremaining: 522ms\n",
            "32:\tlearn: 0.5404205\ttotal: 54ms\tremaining: 519ms\n",
            "33:\tlearn: 0.5377691\ttotal: 55.4ms\tremaining: 515ms\n",
            "34:\tlearn: 0.5351041\ttotal: 56.8ms\tremaining: 511ms\n",
            "35:\tlearn: 0.5328976\ttotal: 57.6ms\tremaining: 502ms\n",
            "36:\tlearn: 0.5307523\ttotal: 59.5ms\tremaining: 503ms\n",
            "37:\tlearn: 0.5283593\ttotal: 61.6ms\tremaining: 506ms\n",
            "38:\tlearn: 0.5259238\ttotal: 65ms\tremaining: 518ms\n",
            "39:\tlearn: 0.5236175\ttotal: 66.4ms\tremaining: 515ms\n",
            "40:\tlearn: 0.5210684\ttotal: 67.8ms\tremaining: 511ms\n",
            "41:\tlearn: 0.5191480\ttotal: 69.3ms\tremaining: 508ms\n",
            "42:\tlearn: 0.5169833\ttotal: 70.7ms\tremaining: 505ms\n",
            "43:\tlearn: 0.5146978\ttotal: 72.2ms\tremaining: 502ms\n",
            "44:\tlearn: 0.5128536\ttotal: 73.6ms\tremaining: 499ms\n",
            "45:\tlearn: 0.5107382\ttotal: 75.1ms\tremaining: 496ms\n",
            "46:\tlearn: 0.5085258\ttotal: 76.6ms\tremaining: 494ms\n",
            "47:\tlearn: 0.5065240\ttotal: 78.1ms\tremaining: 491ms\n",
            "48:\tlearn: 0.5045453\ttotal: 79.7ms\tremaining: 489ms\n",
            "49:\tlearn: 0.5027936\ttotal: 81.2ms\tremaining: 487ms\n",
            "50:\tlearn: 0.5011688\ttotal: 82.7ms\tremaining: 485ms\n",
            "51:\tlearn: 0.4995745\ttotal: 84.3ms\tremaining: 483ms\n",
            "52:\tlearn: 0.4979799\ttotal: 85.8ms\tremaining: 481ms\n",
            "53:\tlearn: 0.4963775\ttotal: 87.3ms\tremaining: 479ms\n",
            "54:\tlearn: 0.4948316\ttotal: 88.8ms\tremaining: 476ms\n",
            "55:\tlearn: 0.4933422\ttotal: 89.8ms\tremaining: 471ms\n",
            "56:\tlearn: 0.4924743\ttotal: 91.8ms\tremaining: 472ms\n",
            "57:\tlearn: 0.4908733\ttotal: 93.3ms\tremaining: 470ms\n",
            "58:\tlearn: 0.4892226\ttotal: 94.7ms\tremaining: 467ms\n",
            "59:\tlearn: 0.4875272\ttotal: 96.2ms\tremaining: 465ms\n",
            "60:\tlearn: 0.4862901\ttotal: 97.5ms\tremaining: 462ms\n",
            "61:\tlearn: 0.4847854\ttotal: 99ms\tremaining: 460ms\n",
            "62:\tlearn: 0.4835236\ttotal: 101ms\tremaining: 458ms\n",
            "63:\tlearn: 0.4825171\ttotal: 102ms\tremaining: 456ms\n",
            "64:\tlearn: 0.4810489\ttotal: 103ms\tremaining: 454ms\n",
            "65:\tlearn: 0.4800225\ttotal: 105ms\tremaining: 452ms\n",
            "66:\tlearn: 0.4788845\ttotal: 107ms\tremaining: 450ms\n",
            "67:\tlearn: 0.4777683\ttotal: 108ms\tremaining: 448ms\n",
            "68:\tlearn: 0.4767759\ttotal: 109ms\tremaining: 446ms\n",
            "69:\tlearn: 0.4754512\ttotal: 111ms\tremaining: 444ms\n",
            "70:\tlearn: 0.4743738\ttotal: 112ms\tremaining: 442ms\n",
            "71:\tlearn: 0.4732241\ttotal: 114ms\tremaining: 440ms\n",
            "72:\tlearn: 0.4722888\ttotal: 115ms\tremaining: 438ms\n",
            "73:\tlearn: 0.4714007\ttotal: 117ms\tremaining: 436ms\n",
            "74:\tlearn: 0.4706427\ttotal: 118ms\tremaining: 434ms\n",
            "75:\tlearn: 0.4698916\ttotal: 120ms\tremaining: 432ms\n",
            "76:\tlearn: 0.4688485\ttotal: 121ms\tremaining: 431ms\n",
            "77:\tlearn: 0.4679245\ttotal: 123ms\tremaining: 429ms\n",
            "78:\tlearn: 0.4670417\ttotal: 124ms\tremaining: 427ms\n",
            "79:\tlearn: 0.4660709\ttotal: 126ms\tremaining: 425ms\n",
            "80:\tlearn: 0.4653512\ttotal: 127ms\tremaining: 423ms\n",
            "81:\tlearn: 0.4643280\ttotal: 129ms\tremaining: 421ms\n",
            "82:\tlearn: 0.4634269\ttotal: 130ms\tremaining: 419ms\n",
            "83:\tlearn: 0.4629613\ttotal: 132ms\tremaining: 417ms\n",
            "84:\tlearn: 0.4617425\ttotal: 133ms\tremaining: 415ms\n",
            "85:\tlearn: 0.4611314\ttotal: 135ms\tremaining: 413ms\n",
            "86:\tlearn: 0.4605148\ttotal: 136ms\tremaining: 412ms\n",
            "87:\tlearn: 0.4596507\ttotal: 138ms\tremaining: 410ms\n",
            "88:\tlearn: 0.4588005\ttotal: 139ms\tremaining: 409ms\n",
            "89:\tlearn: 0.4582332\ttotal: 141ms\tremaining: 407ms\n",
            "90:\tlearn: 0.4574090\ttotal: 142ms\tremaining: 405ms\n",
            "91:\tlearn: 0.4568456\ttotal: 144ms\tremaining: 403ms\n",
            "92:\tlearn: 0.4560940\ttotal: 145ms\tremaining: 401ms\n",
            "93:\tlearn: 0.4553717\ttotal: 147ms\tremaining: 400ms\n",
            "94:\tlearn: 0.4548265\ttotal: 148ms\tremaining: 398ms\n",
            "95:\tlearn: 0.4540059\ttotal: 150ms\tremaining: 396ms\n",
            "96:\tlearn: 0.4531161\ttotal: 151ms\tremaining: 395ms\n",
            "97:\tlearn: 0.4523403\ttotal: 153ms\tremaining: 393ms\n",
            "98:\tlearn: 0.4516252\ttotal: 154ms\tremaining: 391ms\n",
            "99:\tlearn: 0.4510683\ttotal: 156ms\tremaining: 389ms\n",
            "100:\tlearn: 0.4503302\ttotal: 157ms\tremaining: 388ms\n",
            "101:\tlearn: 0.4497446\ttotal: 159ms\tremaining: 386ms\n",
            "102:\tlearn: 0.4489753\ttotal: 160ms\tremaining: 384ms\n",
            "103:\tlearn: 0.4481581\ttotal: 162ms\tremaining: 382ms\n",
            "104:\tlearn: 0.4471365\ttotal: 163ms\tremaining: 381ms\n",
            "105:\tlearn: 0.4468309\ttotal: 165ms\tremaining: 379ms\n",
            "106:\tlearn: 0.4460315\ttotal: 166ms\tremaining: 377ms\n",
            "107:\tlearn: 0.4450236\ttotal: 168ms\tremaining: 375ms\n",
            "108:\tlearn: 0.4443472\ttotal: 169ms\tremaining: 374ms\n",
            "109:\tlearn: 0.4440260\ttotal: 171ms\tremaining: 372ms\n",
            "110:\tlearn: 0.4436594\ttotal: 172ms\tremaining: 370ms\n",
            "111:\tlearn: 0.4431118\ttotal: 174ms\tremaining: 369ms\n",
            "112:\tlearn: 0.4423624\ttotal: 175ms\tremaining: 367ms\n",
            "113:\tlearn: 0.4416106\ttotal: 177ms\tremaining: 366ms\n",
            "114:\tlearn: 0.4408411\ttotal: 178ms\tremaining: 364ms\n",
            "115:\tlearn: 0.4402417\ttotal: 180ms\tremaining: 362ms\n",
            "116:\tlearn: 0.4397247\ttotal: 181ms\tremaining: 361ms\n",
            "117:\tlearn: 0.4394687\ttotal: 183ms\tremaining: 359ms\n",
            "118:\tlearn: 0.4391077\ttotal: 184ms\tremaining: 357ms\n",
            "119:\tlearn: 0.4384057\ttotal: 186ms\tremaining: 356ms\n",
            "120:\tlearn: 0.4379485\ttotal: 187ms\tremaining: 354ms\n",
            "121:\tlearn: 0.4375521\ttotal: 189ms\tremaining: 352ms\n",
            "122:\tlearn: 0.4369140\ttotal: 194ms\tremaining: 358ms\n",
            "123:\tlearn: 0.4363019\ttotal: 196ms\tremaining: 357ms\n",
            "124:\tlearn: 0.4355882\ttotal: 197ms\tremaining: 355ms\n",
            "125:\tlearn: 0.4349569\ttotal: 199ms\tremaining: 353ms\n",
            "126:\tlearn: 0.4343325\ttotal: 200ms\tremaining: 352ms\n",
            "127:\tlearn: 0.4338826\ttotal: 202ms\tremaining: 350ms\n",
            "128:\tlearn: 0.4331502\ttotal: 203ms\tremaining: 348ms\n",
            "129:\tlearn: 0.4326191\ttotal: 205ms\tremaining: 346ms\n",
            "130:\tlearn: 0.4320665\ttotal: 206ms\tremaining: 345ms\n",
            "131:\tlearn: 0.4316111\ttotal: 208ms\tremaining: 343ms\n",
            "132:\tlearn: 0.4312028\ttotal: 209ms\tremaining: 341ms\n",
            "133:\tlearn: 0.4303352\ttotal: 211ms\tremaining: 339ms\n",
            "134:\tlearn: 0.4295592\ttotal: 212ms\tremaining: 338ms\n",
            "135:\tlearn: 0.4291274\ttotal: 214ms\tremaining: 336ms\n",
            "136:\tlearn: 0.4287355\ttotal: 215ms\tremaining: 334ms\n",
            "137:\tlearn: 0.4281618\ttotal: 217ms\tremaining: 333ms\n",
            "138:\tlearn: 0.4279454\ttotal: 218ms\tremaining: 331ms\n",
            "139:\tlearn: 0.4271904\ttotal: 220ms\tremaining: 329ms\n",
            "140:\tlearn: 0.4265661\ttotal: 221ms\tremaining: 328ms\n",
            "141:\tlearn: 0.4259458\ttotal: 222ms\tremaining: 326ms\n",
            "142:\tlearn: 0.4255364\ttotal: 224ms\tremaining: 324ms\n",
            "143:\tlearn: 0.4248124\ttotal: 225ms\tremaining: 322ms\n",
            "144:\tlearn: 0.4243858\ttotal: 227ms\tremaining: 321ms\n",
            "145:\tlearn: 0.4241418\ttotal: 228ms\tremaining: 319ms\n",
            "146:\tlearn: 0.4234778\ttotal: 230ms\tremaining: 317ms\n",
            "147:\tlearn: 0.4228115\ttotal: 231ms\tremaining: 316ms\n",
            "148:\tlearn: 0.4222475\ttotal: 233ms\tremaining: 314ms\n",
            "149:\tlearn: 0.4217146\ttotal: 234ms\tremaining: 312ms\n",
            "150:\tlearn: 0.4213824\ttotal: 236ms\tremaining: 311ms\n",
            "151:\tlearn: 0.4207446\ttotal: 237ms\tremaining: 309ms\n",
            "152:\tlearn: 0.4203385\ttotal: 239ms\tremaining: 307ms\n",
            "153:\tlearn: 0.4195889\ttotal: 240ms\tremaining: 306ms\n",
            "154:\tlearn: 0.4191652\ttotal: 242ms\tremaining: 304ms\n",
            "155:\tlearn: 0.4190443\ttotal: 242ms\tremaining: 302ms\n",
            "156:\tlearn: 0.4186041\ttotal: 244ms\tremaining: 300ms\n",
            "157:\tlearn: 0.4177494\ttotal: 245ms\tremaining: 298ms\n",
            "158:\tlearn: 0.4172285\ttotal: 247ms\tremaining: 297ms\n",
            "159:\tlearn: 0.4168643\ttotal: 248ms\tremaining: 295ms\n",
            "160:\tlearn: 0.4163921\ttotal: 250ms\tremaining: 293ms\n",
            "161:\tlearn: 0.4158615\ttotal: 251ms\tremaining: 292ms\n",
            "162:\tlearn: 0.4152685\ttotal: 253ms\tremaining: 290ms\n",
            "163:\tlearn: 0.4147539\ttotal: 254ms\tremaining: 288ms\n",
            "164:\tlearn: 0.4140748\ttotal: 256ms\tremaining: 287ms\n",
            "165:\tlearn: 0.4136345\ttotal: 257ms\tremaining: 285ms\n",
            "166:\tlearn: 0.4135077\ttotal: 259ms\tremaining: 283ms\n",
            "167:\tlearn: 0.4130751\ttotal: 260ms\tremaining: 282ms\n",
            "168:\tlearn: 0.4125920\ttotal: 262ms\tremaining: 280ms\n",
            "169:\tlearn: 0.4122026\ttotal: 263ms\tremaining: 278ms\n",
            "170:\tlearn: 0.4117346\ttotal: 265ms\tremaining: 277ms\n",
            "171:\tlearn: 0.4113200\ttotal: 266ms\tremaining: 275ms\n",
            "172:\tlearn: 0.4110200\ttotal: 268ms\tremaining: 274ms\n",
            "173:\tlearn: 0.4105180\ttotal: 269ms\tremaining: 272ms\n",
            "174:\tlearn: 0.4099644\ttotal: 270ms\tremaining: 270ms\n",
            "175:\tlearn: 0.4094352\ttotal: 272ms\tremaining: 269ms\n",
            "176:\tlearn: 0.4090697\ttotal: 273ms\tremaining: 267ms\n",
            "177:\tlearn: 0.4084928\ttotal: 275ms\tremaining: 266ms\n",
            "178:\tlearn: 0.4083113\ttotal: 276ms\tremaining: 264ms\n",
            "179:\tlearn: 0.4079380\ttotal: 278ms\tremaining: 262ms\n",
            "180:\tlearn: 0.4074415\ttotal: 279ms\tremaining: 261ms\n",
            "181:\tlearn: 0.4070781\ttotal: 281ms\tremaining: 259ms\n",
            "182:\tlearn: 0.4067888\ttotal: 282ms\tremaining: 257ms\n",
            "183:\tlearn: 0.4061574\ttotal: 284ms\tremaining: 256ms\n",
            "184:\tlearn: 0.4059298\ttotal: 285ms\tremaining: 254ms\n",
            "185:\tlearn: 0.4056017\ttotal: 287ms\tremaining: 253ms\n",
            "186:\tlearn: 0.4049799\ttotal: 288ms\tremaining: 251ms\n",
            "187:\tlearn: 0.4046376\ttotal: 290ms\tremaining: 250ms\n",
            "188:\tlearn: 0.4039137\ttotal: 291ms\tremaining: 248ms\n",
            "189:\tlearn: 0.4033371\ttotal: 292ms\tremaining: 246ms\n",
            "190:\tlearn: 0.4030642\ttotal: 294ms\tremaining: 245ms\n",
            "191:\tlearn: 0.4026988\ttotal: 295ms\tremaining: 243ms\n",
            "192:\tlearn: 0.4023191\ttotal: 297ms\tremaining: 242ms\n",
            "193:\tlearn: 0.4019261\ttotal: 299ms\tremaining: 240ms\n",
            "194:\tlearn: 0.4015201\ttotal: 300ms\tremaining: 238ms\n",
            "195:\tlearn: 0.4013568\ttotal: 301ms\tremaining: 236ms\n",
            "196:\tlearn: 0.4009075\ttotal: 302ms\tremaining: 235ms\n",
            "197:\tlearn: 0.4004747\ttotal: 304ms\tremaining: 233ms\n",
            "198:\tlearn: 0.4000295\ttotal: 305ms\tremaining: 232ms\n",
            "199:\tlearn: 0.3994711\ttotal: 307ms\tremaining: 230ms\n",
            "200:\tlearn: 0.3991657\ttotal: 308ms\tremaining: 229ms\n",
            "201:\tlearn: 0.3987244\ttotal: 310ms\tremaining: 227ms\n",
            "202:\tlearn: 0.3982753\ttotal: 311ms\tremaining: 226ms\n",
            "203:\tlearn: 0.3975229\ttotal: 313ms\tremaining: 224ms\n",
            "204:\tlearn: 0.3969295\ttotal: 314ms\tremaining: 222ms\n",
            "205:\tlearn: 0.3964113\ttotal: 316ms\tremaining: 221ms\n",
            "206:\tlearn: 0.3959395\ttotal: 317ms\tremaining: 219ms\n",
            "207:\tlearn: 0.3954767\ttotal: 319ms\tremaining: 218ms\n",
            "208:\tlearn: 0.3951370\ttotal: 320ms\tremaining: 216ms\n",
            "209:\tlearn: 0.3947037\ttotal: 322ms\tremaining: 214ms\n",
            "210:\tlearn: 0.3941993\ttotal: 323ms\tremaining: 213ms\n",
            "211:\tlearn: 0.3936656\ttotal: 325ms\tremaining: 211ms\n",
            "212:\tlearn: 0.3930569\ttotal: 326ms\tremaining: 210ms\n",
            "213:\tlearn: 0.3927422\ttotal: 328ms\tremaining: 208ms\n",
            "214:\tlearn: 0.3922481\ttotal: 329ms\tremaining: 207ms\n",
            "215:\tlearn: 0.3917651\ttotal: 330ms\tremaining: 205ms\n",
            "216:\tlearn: 0.3914754\ttotal: 332ms\tremaining: 203ms\n",
            "217:\tlearn: 0.3911893\ttotal: 333ms\tremaining: 202ms\n",
            "218:\tlearn: 0.3910933\ttotal: 335ms\tremaining: 200ms\n",
            "219:\tlearn: 0.3907297\ttotal: 336ms\tremaining: 199ms\n",
            "220:\tlearn: 0.3904989\ttotal: 338ms\tremaining: 197ms\n",
            "221:\tlearn: 0.3902978\ttotal: 339ms\tremaining: 196ms\n",
            "222:\tlearn: 0.3899710\ttotal: 341ms\tremaining: 194ms\n",
            "223:\tlearn: 0.3895278\ttotal: 342ms\tremaining: 192ms\n",
            "224:\tlearn: 0.3894776\ttotal: 343ms\tremaining: 190ms\n",
            "225:\tlearn: 0.3889327\ttotal: 344ms\tremaining: 189ms\n",
            "226:\tlearn: 0.3883220\ttotal: 346ms\tremaining: 187ms\n",
            "227:\tlearn: 0.3880325\ttotal: 347ms\tremaining: 186ms\n",
            "228:\tlearn: 0.3875204\ttotal: 349ms\tremaining: 184ms\n",
            "229:\tlearn: 0.3871702\ttotal: 350ms\tremaining: 183ms\n",
            "230:\tlearn: 0.3869324\ttotal: 352ms\tremaining: 181ms\n",
            "231:\tlearn: 0.3863055\ttotal: 353ms\tremaining: 180ms\n",
            "232:\tlearn: 0.3859572\ttotal: 355ms\tremaining: 178ms\n",
            "233:\tlearn: 0.3855487\ttotal: 356ms\tremaining: 177ms\n",
            "234:\tlearn: 0.3853434\ttotal: 358ms\tremaining: 175ms\n",
            "235:\tlearn: 0.3848466\ttotal: 359ms\tremaining: 173ms\n",
            "236:\tlearn: 0.3845373\ttotal: 360ms\tremaining: 172ms\n",
            "237:\tlearn: 0.3841647\ttotal: 362ms\tremaining: 170ms\n",
            "238:\tlearn: 0.3837314\ttotal: 364ms\tremaining: 169ms\n",
            "239:\tlearn: 0.3832981\ttotal: 365ms\tremaining: 167ms\n",
            "240:\tlearn: 0.3829865\ttotal: 367ms\tremaining: 166ms\n",
            "241:\tlearn: 0.3827410\ttotal: 368ms\tremaining: 164ms\n",
            "242:\tlearn: 0.3824392\ttotal: 370ms\tremaining: 163ms\n",
            "243:\tlearn: 0.3819888\ttotal: 371ms\tremaining: 161ms\n",
            "244:\tlearn: 0.3815040\ttotal: 372ms\tremaining: 160ms\n",
            "245:\tlearn: 0.3811138\ttotal: 374ms\tremaining: 158ms\n",
            "246:\tlearn: 0.3807616\ttotal: 375ms\tremaining: 157ms\n",
            "247:\tlearn: 0.3803963\ttotal: 377ms\tremaining: 155ms\n",
            "248:\tlearn: 0.3800722\ttotal: 378ms\tremaining: 153ms\n",
            "249:\tlearn: 0.3798249\ttotal: 380ms\tremaining: 152ms\n",
            "250:\tlearn: 0.3793128\ttotal: 383ms\tremaining: 151ms\n",
            "251:\tlearn: 0.3787969\ttotal: 386ms\tremaining: 150ms\n",
            "252:\tlearn: 0.3784243\ttotal: 387ms\tremaining: 149ms\n",
            "253:\tlearn: 0.3780159\ttotal: 389ms\tremaining: 147ms\n",
            "254:\tlearn: 0.3774742\ttotal: 390ms\tremaining: 145ms\n",
            "255:\tlearn: 0.3770707\ttotal: 392ms\tremaining: 144ms\n",
            "256:\tlearn: 0.3766865\ttotal: 393ms\tremaining: 142ms\n",
            "257:\tlearn: 0.3763364\ttotal: 395ms\tremaining: 141ms\n",
            "258:\tlearn: 0.3760936\ttotal: 396ms\tremaining: 139ms\n",
            "259:\tlearn: 0.3757297\ttotal: 398ms\tremaining: 138ms\n",
            "260:\tlearn: 0.3754787\ttotal: 399ms\tremaining: 136ms\n",
            "261:\tlearn: 0.3752196\ttotal: 407ms\tremaining: 137ms\n",
            "262:\tlearn: 0.3750246\ttotal: 409ms\tremaining: 135ms\n",
            "263:\tlearn: 0.3747203\ttotal: 412ms\tremaining: 134ms\n",
            "264:\tlearn: 0.3743943\ttotal: 413ms\tremaining: 133ms\n",
            "265:\tlearn: 0.3740700\ttotal: 415ms\tremaining: 131ms\n",
            "266:\tlearn: 0.3737902\ttotal: 416ms\tremaining: 129ms\n",
            "267:\tlearn: 0.3734186\ttotal: 418ms\tremaining: 128ms\n",
            "268:\tlearn: 0.3729246\ttotal: 419ms\tremaining: 126ms\n",
            "269:\tlearn: 0.3724655\ttotal: 421ms\tremaining: 125ms\n",
            "270:\tlearn: 0.3722417\ttotal: 422ms\tremaining: 123ms\n",
            "271:\tlearn: 0.3719170\ttotal: 424ms\tremaining: 121ms\n",
            "272:\tlearn: 0.3711968\ttotal: 425ms\tremaining: 120ms\n",
            "273:\tlearn: 0.3708686\ttotal: 427ms\tremaining: 118ms\n",
            "274:\tlearn: 0.3707048\ttotal: 428ms\tremaining: 117ms\n",
            "275:\tlearn: 0.3702505\ttotal: 430ms\tremaining: 115ms\n",
            "276:\tlearn: 0.3700027\ttotal: 431ms\tremaining: 114ms\n",
            "277:\tlearn: 0.3697645\ttotal: 433ms\tremaining: 112ms\n",
            "278:\tlearn: 0.3694705\ttotal: 434ms\tremaining: 110ms\n",
            "279:\tlearn: 0.3690894\ttotal: 436ms\tremaining: 109ms\n",
            "280:\tlearn: 0.3689056\ttotal: 437ms\tremaining: 107ms\n",
            "281:\tlearn: 0.3684843\ttotal: 439ms\tremaining: 106ms\n",
            "282:\tlearn: 0.3682984\ttotal: 440ms\tremaining: 104ms\n",
            "283:\tlearn: 0.3677704\ttotal: 442ms\tremaining: 103ms\n",
            "284:\tlearn: 0.3672851\ttotal: 443ms\tremaining: 101ms\n",
            "285:\tlearn: 0.3667212\ttotal: 445ms\tremaining: 99.5ms\n",
            "286:\tlearn: 0.3664054\ttotal: 446ms\tremaining: 97.9ms\n",
            "287:\tlearn: 0.3659383\ttotal: 448ms\tremaining: 96.3ms\n",
            "288:\tlearn: 0.3655826\ttotal: 449ms\tremaining: 94.8ms\n",
            "289:\tlearn: 0.3653043\ttotal: 451ms\tremaining: 93.2ms\n",
            "290:\tlearn: 0.3649264\ttotal: 452ms\tremaining: 91.6ms\n",
            "291:\tlearn: 0.3646561\ttotal: 453ms\tremaining: 90.1ms\n",
            "292:\tlearn: 0.3642617\ttotal: 455ms\tremaining: 88.5ms\n",
            "293:\tlearn: 0.3638221\ttotal: 456ms\tremaining: 86.9ms\n",
            "294:\tlearn: 0.3633545\ttotal: 458ms\tremaining: 85.4ms\n",
            "295:\tlearn: 0.3629155\ttotal: 460ms\tremaining: 83.8ms\n",
            "296:\tlearn: 0.3626203\ttotal: 461ms\tremaining: 82.3ms\n",
            "297:\tlearn: 0.3623671\ttotal: 462ms\tremaining: 80.7ms\n",
            "298:\tlearn: 0.3619842\ttotal: 464ms\tremaining: 79.1ms\n",
            "299:\tlearn: 0.3615449\ttotal: 466ms\tremaining: 77.6ms\n",
            "300:\tlearn: 0.3613148\ttotal: 467ms\tremaining: 76ms\n",
            "301:\tlearn: 0.3609506\ttotal: 468ms\tremaining: 74.5ms\n",
            "302:\tlearn: 0.3605965\ttotal: 470ms\tremaining: 72.9ms\n",
            "303:\tlearn: 0.3599052\ttotal: 471ms\tremaining: 71.3ms\n",
            "304:\tlearn: 0.3596435\ttotal: 473ms\tremaining: 69.8ms\n",
            "305:\tlearn: 0.3594105\ttotal: 474ms\tremaining: 68.2ms\n",
            "306:\tlearn: 0.3591874\ttotal: 476ms\tremaining: 66.7ms\n",
            "307:\tlearn: 0.3588131\ttotal: 477ms\tremaining: 65.1ms\n",
            "308:\tlearn: 0.3583971\ttotal: 479ms\tremaining: 63.5ms\n",
            "309:\tlearn: 0.3581105\ttotal: 480ms\tremaining: 62ms\n",
            "310:\tlearn: 0.3577504\ttotal: 482ms\tremaining: 60.4ms\n",
            "311:\tlearn: 0.3576686\ttotal: 483ms\tremaining: 58.9ms\n",
            "312:\tlearn: 0.3571215\ttotal: 485ms\tremaining: 57.3ms\n",
            "313:\tlearn: 0.3566018\ttotal: 486ms\tremaining: 55.7ms\n",
            "314:\tlearn: 0.3562662\ttotal: 488ms\tremaining: 54.2ms\n",
            "315:\tlearn: 0.3557725\ttotal: 489ms\tremaining: 52.6ms\n",
            "316:\tlearn: 0.3550843\ttotal: 491ms\tremaining: 51.1ms\n",
            "317:\tlearn: 0.3548995\ttotal: 492ms\tremaining: 49.5ms\n",
            "318:\tlearn: 0.3545740\ttotal: 494ms\tremaining: 48ms\n",
            "319:\tlearn: 0.3540449\ttotal: 495ms\tremaining: 46.4ms\n",
            "320:\tlearn: 0.3536999\ttotal: 497ms\tremaining: 44.9ms\n",
            "321:\tlearn: 0.3535130\ttotal: 498ms\tremaining: 43.3ms\n",
            "322:\tlearn: 0.3532720\ttotal: 500ms\tremaining: 41.8ms\n",
            "323:\tlearn: 0.3528329\ttotal: 501ms\tremaining: 40.2ms\n",
            "324:\tlearn: 0.3523976\ttotal: 503ms\tremaining: 38.7ms\n",
            "325:\tlearn: 0.3522113\ttotal: 504ms\tremaining: 37.1ms\n",
            "326:\tlearn: 0.3518826\ttotal: 505ms\tremaining: 35.5ms\n",
            "327:\tlearn: 0.3516709\ttotal: 507ms\tremaining: 34ms\n",
            "328:\tlearn: 0.3514238\ttotal: 508ms\tremaining: 32.5ms\n",
            "329:\tlearn: 0.3512197\ttotal: 510ms\tremaining: 30.9ms\n",
            "330:\tlearn: 0.3510281\ttotal: 511ms\tremaining: 29.4ms\n",
            "331:\tlearn: 0.3507413\ttotal: 513ms\tremaining: 27.8ms\n",
            "332:\tlearn: 0.3503474\ttotal: 514ms\tremaining: 26.3ms\n",
            "333:\tlearn: 0.3501322\ttotal: 516ms\tremaining: 24.7ms\n",
            "334:\tlearn: 0.3498617\ttotal: 517ms\tremaining: 23.2ms\n",
            "335:\tlearn: 0.3494831\ttotal: 519ms\tremaining: 21.6ms\n",
            "336:\tlearn: 0.3489311\ttotal: 520ms\tremaining: 20.1ms\n",
            "337:\tlearn: 0.3484405\ttotal: 522ms\tremaining: 18.5ms\n",
            "338:\tlearn: 0.3479351\ttotal: 523ms\tremaining: 17ms\n",
            "339:\tlearn: 0.3477462\ttotal: 525ms\tremaining: 15.4ms\n",
            "340:\tlearn: 0.3471283\ttotal: 526ms\tremaining: 13.9ms\n",
            "341:\tlearn: 0.3467939\ttotal: 528ms\tremaining: 12.3ms\n",
            "342:\tlearn: 0.3463165\ttotal: 529ms\tremaining: 10.8ms\n",
            "343:\tlearn: 0.3459490\ttotal: 531ms\tremaining: 9.26ms\n",
            "344:\tlearn: 0.3456507\ttotal: 532ms\tremaining: 7.71ms\n",
            "345:\tlearn: 0.3453409\ttotal: 534ms\tremaining: 6.17ms\n",
            "346:\tlearn: 0.3449829\ttotal: 535ms\tremaining: 4.63ms\n",
            "347:\tlearn: 0.3446546\ttotal: 537ms\tremaining: 3.08ms\n",
            "348:\tlearn: 0.3444448\ttotal: 538ms\tremaining: 1.54ms\n",
            "349:\tlearn: 0.3437904\ttotal: 539ms\tremaining: 0us\n",
            "Accuracy for train is for  0.8431771894093686\n",
            "Accuracy for val is for  0.8455284552845529\n"
          ],
          "name": "stdout"
        }
      ]
    },
    {
      "cell_type": "code",
      "metadata": {
        "id": "LJWQm9myPkJf",
        "colab_type": "code",
        "colab": {
          "base_uri": "https://localhost:8080/",
          "height": 51
        },
        "outputId": "9193ea66-8387-4910-8c98-6ca682a0ea4e"
      },
      "source": [
        "confusion_matrix(val_y,val_pred)"
      ],
      "execution_count": 326,
      "outputs": [
        {
          "output_type": "execute_result",
          "data": {
            "text/plain": [
              "array([[19, 19],\n",
              "       [ 0, 85]])"
            ]
          },
          "metadata": {
            "tags": []
          },
          "execution_count": 326
        }
      ]
    },
    {
      "cell_type": "code",
      "metadata": {
        "id": "O-JEK2KoQjC4",
        "colab_type": "code",
        "colab": {}
      },
      "source": [
        "# predicting test data\n",
        "\n",
        "y_test_pred=clf.predict(m_test_data)\n",
        "test_sub=pd.DataFrame(y_test_pred,columns=['Loan_Status'])\n",
        "test_sub['Loan_ID']=test_data_LoanID"
      ],
      "execution_count": 327,
      "outputs": []
    },
    {
      "cell_type": "code",
      "metadata": {
        "id": "hxYcpK0RS-O5",
        "colab_type": "code",
        "colab": {
          "base_uri": "https://localhost:8080/",
          "height": 419
        },
        "outputId": "d1cc5e85-48c8-4ba7-ecb3-67ddac8fec1d"
      },
      "source": [
        "test_sub['Loan_Status']= test_sub['Loan_Status'].map({0: 'N' , 1: 'Y'})\n",
        "test_sub=test_sub[['Loan_ID','Loan_Status']]\n",
        "\n",
        "test_sub"
      ],
      "execution_count": 328,
      "outputs": [
        {
          "output_type": "execute_result",
          "data": {
            "text/html": [
              "<div>\n",
              "<style scoped>\n",
              "    .dataframe tbody tr th:only-of-type {\n",
              "        vertical-align: middle;\n",
              "    }\n",
              "\n",
              "    .dataframe tbody tr th {\n",
              "        vertical-align: top;\n",
              "    }\n",
              "\n",
              "    .dataframe thead th {\n",
              "        text-align: right;\n",
              "    }\n",
              "</style>\n",
              "<table border=\"1\" class=\"dataframe\">\n",
              "  <thead>\n",
              "    <tr style=\"text-align: right;\">\n",
              "      <th></th>\n",
              "      <th>Loan_ID</th>\n",
              "      <th>Loan_Status</th>\n",
              "    </tr>\n",
              "  </thead>\n",
              "  <tbody>\n",
              "    <tr>\n",
              "      <th>0</th>\n",
              "      <td>LP001015</td>\n",
              "      <td>Y</td>\n",
              "    </tr>\n",
              "    <tr>\n",
              "      <th>1</th>\n",
              "      <td>LP001022</td>\n",
              "      <td>Y</td>\n",
              "    </tr>\n",
              "    <tr>\n",
              "      <th>2</th>\n",
              "      <td>LP001031</td>\n",
              "      <td>Y</td>\n",
              "    </tr>\n",
              "    <tr>\n",
              "      <th>3</th>\n",
              "      <td>LP001035</td>\n",
              "      <td>Y</td>\n",
              "    </tr>\n",
              "    <tr>\n",
              "      <th>4</th>\n",
              "      <td>LP001051</td>\n",
              "      <td>Y</td>\n",
              "    </tr>\n",
              "    <tr>\n",
              "      <th>...</th>\n",
              "      <td>...</td>\n",
              "      <td>...</td>\n",
              "    </tr>\n",
              "    <tr>\n",
              "      <th>362</th>\n",
              "      <td>LP002971</td>\n",
              "      <td>Y</td>\n",
              "    </tr>\n",
              "    <tr>\n",
              "      <th>363</th>\n",
              "      <td>LP002975</td>\n",
              "      <td>Y</td>\n",
              "    </tr>\n",
              "    <tr>\n",
              "      <th>364</th>\n",
              "      <td>LP002980</td>\n",
              "      <td>Y</td>\n",
              "    </tr>\n",
              "    <tr>\n",
              "      <th>365</th>\n",
              "      <td>LP002986</td>\n",
              "      <td>Y</td>\n",
              "    </tr>\n",
              "    <tr>\n",
              "      <th>366</th>\n",
              "      <td>LP002989</td>\n",
              "      <td>Y</td>\n",
              "    </tr>\n",
              "  </tbody>\n",
              "</table>\n",
              "<p>367 rows × 2 columns</p>\n",
              "</div>"
            ],
            "text/plain": [
              "      Loan_ID Loan_Status\n",
              "0    LP001015           Y\n",
              "1    LP001022           Y\n",
              "2    LP001031           Y\n",
              "3    LP001035           Y\n",
              "4    LP001051           Y\n",
              "..        ...         ...\n",
              "362  LP002971           Y\n",
              "363  LP002975           Y\n",
              "364  LP002980           Y\n",
              "365  LP002986           Y\n",
              "366  LP002989           Y\n",
              "\n",
              "[367 rows x 2 columns]"
            ]
          },
          "metadata": {
            "tags": []
          },
          "execution_count": 328
        }
      ]
    },
    {
      "cell_type": "code",
      "metadata": {
        "id": "bZlkh4A5S6HF",
        "colab_type": "code",
        "colab": {}
      },
      "source": [
        "test_sub.to_csv('catbboost_submission.csv',index=False)"
      ],
      "execution_count": 329,
      "outputs": []
    },
    {
      "cell_type": "markdown",
      "metadata": {
        "id": "WgS7cRnGQ718",
        "colab_type": "text"
      },
      "source": [
        "\n",
        "The test score for catboost classifier is : 0.7847222222222222.\n",
        "\n"
      ]
    },
    {
      "cell_type": "markdown",
      "metadata": {
        "id": "EXtHbErIRLH7",
        "colab_type": "text"
      },
      "source": [
        "## SGD Classifier"
      ]
    },
    {
      "cell_type": "code",
      "metadata": {
        "id": "2RoEzr5_GkMg",
        "colab_type": "code",
        "colab": {
          "base_uri": "https://localhost:8080/",
          "height": 119
        },
        "outputId": "763fb23f-06a7-4c29-8650-64b85b9bf5fa"
      },
      "source": [
        "# Always scale the input. The most convenient way is to use a pipeline.\n",
        "\n",
        "alph=[0.001,0.01,0.1,1,10,100]\n",
        "\n",
        "\n",
        "for i in alph:\n",
        "  clf = make_pipeline(StandardScaler(), SGDClassifier(loss='log', max_iter=1000, tol=1e-3, class_weight=\"balanced\", alpha=i ))\n",
        "  clf.fit(train_X, train_y)\n",
        "  val_pred=clf.predict(val_X)\n",
        "  print (\"Accuracy for \",i, ms.accuracy_score(val_y,val_pred))\n",
        "  \n"
      ],
      "execution_count": 357,
      "outputs": [
        {
          "output_type": "stream",
          "text": [
            "Accuracy for  0.001 0.7723577235772358\n",
            "Accuracy for  0.01 0.7317073170731707\n",
            "Accuracy for  0.1 0.7317073170731707\n",
            "Accuracy for  1 0.6422764227642277\n",
            "Accuracy for  10 0.6910569105691057\n",
            "Accuracy for  100 0.6910569105691057\n"
          ],
          "name": "stdout"
        }
      ]
    },
    {
      "cell_type": "markdown",
      "metadata": {
        "id": "hv0L86C8aii7",
        "colab_type": "text"
      },
      "source": [
        "As we can see the validation accuracy of catboost is greater than the accuracy of SGD Classifier."
      ]
    },
    {
      "cell_type": "markdown",
      "metadata": {
        "id": "e4sBDWqMUfOU",
        "colab_type": "text"
      },
      "source": [
        "## XGBoost"
      ]
    },
    {
      "cell_type": "code",
      "metadata": {
        "id": "8rFc-DGcUhW0",
        "colab_type": "code",
        "colab": {
          "base_uri": "https://localhost:8080/",
          "height": 221
        },
        "outputId": "2230da20-79d5-4218-c349-ddbbee756848"
      },
      "source": [
        "x_cfl=XGBClassifier(weight=[0.5,10,0.7,7], objective='multi:softprob',tree_method='hist', max_delta_step=2, n_jobs=-1, num_class=2)\n",
        "prams={'learning_rate':uniform(0.01, 0.4),\n",
        "     'n_estimators':randint(20,200),\n",
        "     'max_depth':randint(3,30)}\n",
        "\n",
        "random_cfl=RandomizedSearchCV(x_cfl,param_distributions=prams,verbose=10,n_jobs=-1)\n",
        "random_cfl.fit(train_X, train_y)\n",
        "print (random_cfl.best_params_)"
      ],
      "execution_count": 352,
      "outputs": [
        {
          "output_type": "stream",
          "text": [
            "Fitting 5 folds for each of 10 candidates, totalling 50 fits\n"
          ],
          "name": "stdout"
        },
        {
          "output_type": "stream",
          "text": [
            "[Parallel(n_jobs=-1)]: Using backend LokyBackend with 2 concurrent workers.\n",
            "[Parallel(n_jobs=-1)]: Done   1 tasks      | elapsed:    0.5s\n",
            "[Parallel(n_jobs=-1)]: Done   4 tasks      | elapsed:    1.1s\n",
            "[Parallel(n_jobs=-1)]: Done   9 tasks      | elapsed:    2.1s\n",
            "[Parallel(n_jobs=-1)]: Done  14 tasks      | elapsed:    2.9s\n",
            "[Parallel(n_jobs=-1)]: Done  21 tasks      | elapsed:    4.2s\n",
            "[Parallel(n_jobs=-1)]: Done  28 tasks      | elapsed:    5.4s\n",
            "[Parallel(n_jobs=-1)]: Done  37 tasks      | elapsed:    6.8s\n",
            "[Parallel(n_jobs=-1)]: Done  46 tasks      | elapsed:    8.2s\n",
            "[Parallel(n_jobs=-1)]: Done  50 out of  50 | elapsed:    8.7s finished\n"
          ],
          "name": "stderr"
        },
        {
          "output_type": "stream",
          "text": [
            "{'learning_rate': 0.1285606891705723, 'max_depth': 24, 'n_estimators': 167}\n"
          ],
          "name": "stdout"
        }
      ]
    },
    {
      "cell_type": "code",
      "metadata": {
        "id": "l_r_Xmc1g2fF",
        "colab_type": "code",
        "colab": {
          "base_uri": "https://localhost:8080/",
          "height": 51
        },
        "outputId": "84f62fc9-07bb-4f2f-9cf4-f133e421ec82"
      },
      "source": [
        "x_cfl=XGBClassifier(objective='multi:softprob', max_delta_step=5, tree_method='hist', n_estimators=167, max_depth=24, learning_rate=0.128, n_jobs=-1, num_class=2)\n",
        "x_cfl.fit(train_X, train_y,verbose=True)\n",
        "predict_y = x_cfl.predict(train_X)\n",
        "print (\"Accuracy for \", ms.accuracy_score(train_y,predict_y))\n",
        "predict_y = x_cfl.predict(val_X)\n",
        "print (\"Accuracy for val is for \", ms.accuracy_score(val_y,val_pred))"
      ],
      "execution_count": 353,
      "outputs": [
        {
          "output_type": "stream",
          "text": [
            "Accuracy for  0.9979633401221996\n",
            "Accuracy for val is for  0.8373983739837398\n"
          ],
          "name": "stdout"
        }
      ]
    },
    {
      "cell_type": "markdown",
      "metadata": {
        "id": "iRbUHdHo3w96",
        "colab_type": "text"
      },
      "source": [
        "as we can see this model's performance is not good."
      ]
    },
    {
      "cell_type": "markdown",
      "metadata": {
        "id": "b1TX8KDiVFgt",
        "colab_type": "text"
      },
      "source": [
        "## Random Forest"
      ]
    },
    {
      "cell_type": "code",
      "metadata": {
        "id": "0_sjyqy3WX8V",
        "colab_type": "code",
        "colab": {
          "base_uri": "https://localhost:8080/",
          "height": 221
        },
        "outputId": "fb079cd2-686f-49fe-85a2-6913f9eb4a5a"
      },
      "source": [
        "params={'n_estimators':randint(20,50), 'max_depth':randint(2,30)}\n",
        "\n",
        "r_cfl=RandomForestClassifier(random_state=42,n_jobs=-1)\n",
        "\n",
        "random_cfl=RandomizedSearchCV(r_cfl,param_distributions=params,verbose=10,n_jobs=-1)\n",
        "random_cfl.fit(train_X, train_y)\n",
        "print(random_cfl.best_params_)"
      ],
      "execution_count": 348,
      "outputs": [
        {
          "output_type": "stream",
          "text": [
            "Fitting 5 folds for each of 10 candidates, totalling 50 fits\n"
          ],
          "name": "stdout"
        },
        {
          "output_type": "stream",
          "text": [
            "[Parallel(n_jobs=-1)]: Using backend LokyBackend with 2 concurrent workers.\n",
            "[Parallel(n_jobs=-1)]: Done   1 tasks      | elapsed:    0.3s\n",
            "[Parallel(n_jobs=-1)]: Done   4 tasks      | elapsed:    0.5s\n",
            "[Parallel(n_jobs=-1)]: Done   9 tasks      | elapsed:    1.2s\n",
            "[Parallel(n_jobs=-1)]: Done  14 tasks      | elapsed:    1.7s\n",
            "[Parallel(n_jobs=-1)]: Done  21 tasks      | elapsed:    2.6s\n",
            "[Parallel(n_jobs=-1)]: Done  28 tasks      | elapsed:    3.3s\n",
            "[Parallel(n_jobs=-1)]: Done  37 tasks      | elapsed:    4.4s\n",
            "[Parallel(n_jobs=-1)]: Done  46 tasks      | elapsed:    5.4s\n"
          ],
          "name": "stderr"
        },
        {
          "output_type": "stream",
          "text": [
            "{'max_depth': 4, 'n_estimators': 40}\n"
          ],
          "name": "stdout"
        },
        {
          "output_type": "stream",
          "text": [
            "[Parallel(n_jobs=-1)]: Done  50 out of  50 | elapsed:    5.9s finished\n"
          ],
          "name": "stderr"
        }
      ]
    },
    {
      "cell_type": "code",
      "metadata": {
        "id": "6vCipIZqWkuX",
        "colab_type": "code",
        "colab": {
          "base_uri": "https://localhost:8080/",
          "height": 51
        },
        "outputId": "3de067bd-5f0b-448d-85c5-f8a7038b0191"
      },
      "source": [
        "r_cfl=RandomForestClassifier(n_estimators=40,random_state=42,n_jobs=-1, max_depth=4)\n",
        "r_cfl.fit(train_X, train_y)\n",
        "tr_pred=r_cfl.predict(train_X)\n",
        "val_pred=r_cfl.predict(val_X)\n",
        "print (\"Accuracy for train is for \",i, ms.accuracy_score(train_y,tr_pred))\n",
        "print (\"Accuracy for val is for \",i, ms.accuracy_score(val_y,val_pred))"
      ],
      "execution_count": 349,
      "outputs": [
        {
          "output_type": "stream",
          "text": [
            "Accuracy for train is for  100 0.8085539714867617\n",
            "Accuracy for val is for  100 0.8373983739837398\n"
          ],
          "name": "stdout"
        }
      ]
    },
    {
      "cell_type": "markdown",
      "metadata": {
        "id": "JsGhpKhgbare",
        "colab_type": "text"
      },
      "source": [
        "As we can see that catboost accuracy is slightly greater than the random forest accuracy.\n",
        "\n",
        "Catboost is the best model of all."
      ]
    },
    {
      "cell_type": "markdown",
      "metadata": {
        "id": "1pi8VPTSCdMN",
        "colab_type": "text"
      },
      "source": [
        "# Summary"
      ]
    },
    {
      "cell_type": "code",
      "metadata": {
        "id": "1TX47vW7-QCc",
        "colab_type": "code",
        "colab": {
          "base_uri": "https://localhost:8080/",
          "height": 173
        },
        "outputId": "28f76879-153a-4338-f8dd-7a165f59f65b"
      },
      "source": [
        "df=pd.DataFrame(data=[['CatBoostClassifier Model',0.8455284552845529], ['SGDClassifier',0.7723577235772358],['XGBClassifier',0.8373983739837398], ['RamdomForestClassifier',0.837398373983739]], columns=['Model','Validation accuracy'])\n",
        "df"
      ],
      "execution_count": 358,
      "outputs": [
        {
          "output_type": "execute_result",
          "data": {
            "text/html": [
              "<div>\n",
              "<style scoped>\n",
              "    .dataframe tbody tr th:only-of-type {\n",
              "        vertical-align: middle;\n",
              "    }\n",
              "\n",
              "    .dataframe tbody tr th {\n",
              "        vertical-align: top;\n",
              "    }\n",
              "\n",
              "    .dataframe thead th {\n",
              "        text-align: right;\n",
              "    }\n",
              "</style>\n",
              "<table border=\"1\" class=\"dataframe\">\n",
              "  <thead>\n",
              "    <tr style=\"text-align: right;\">\n",
              "      <th></th>\n",
              "      <th>Model</th>\n",
              "      <th>Validation accuracy</th>\n",
              "    </tr>\n",
              "  </thead>\n",
              "  <tbody>\n",
              "    <tr>\n",
              "      <th>0</th>\n",
              "      <td>CatBoostClassifier Model</td>\n",
              "      <td>0.845528</td>\n",
              "    </tr>\n",
              "    <tr>\n",
              "      <th>1</th>\n",
              "      <td>SGDClassifier</td>\n",
              "      <td>0.772358</td>\n",
              "    </tr>\n",
              "    <tr>\n",
              "      <th>2</th>\n",
              "      <td>XGBClassifier</td>\n",
              "      <td>0.837398</td>\n",
              "    </tr>\n",
              "    <tr>\n",
              "      <th>3</th>\n",
              "      <td>RamdomForestClassifier</td>\n",
              "      <td>0.837398</td>\n",
              "    </tr>\n",
              "  </tbody>\n",
              "</table>\n",
              "</div>"
            ],
            "text/plain": [
              "                      Model  Validation accuracy\n",
              "0  CatBoostClassifier Model             0.845528\n",
              "1             SGDClassifier             0.772358\n",
              "2             XGBClassifier             0.837398\n",
              "3    RamdomForestClassifier             0.837398"
            ]
          },
          "metadata": {
            "tags": []
          },
          "execution_count": 358
        }
      ]
    },
    {
      "cell_type": "code",
      "metadata": {
        "id": "VKpZuGHsCsAF",
        "colab_type": "code",
        "colab": {}
      },
      "source": [
        ""
      ],
      "execution_count": null,
      "outputs": []
    }
  ]
}